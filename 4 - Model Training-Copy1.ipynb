{
 "cells": [
  {
   "cell_type": "code",
   "execution_count": 2,
   "metadata": {},
   "outputs": [
    {
     "name": "stderr",
     "output_type": "stream",
     "text": [
      "/home/huypham/anaconda3/lib/python3.6/site-packages/h5py/__init__.py:36: FutureWarning: Conversion of the second argument of issubdtype from `float` to `np.floating` is deprecated. In future, it will be treated as `np.float64 == np.dtype(float).type`.\n",
      "  from ._conv import register_converters as _register_converters\n",
      "Using TensorFlow backend.\n"
     ]
    }
   ],
   "source": [
    "from keras.preprocessing import sequence\n",
    "import pandas as pd\n",
    "import numpy as np"
   ]
  },
  {
   "cell_type": "code",
   "execution_count": 3,
   "metadata": {},
   "outputs": [],
   "source": [
    "df = pd.read_csv('train_encode.csv')"
   ]
  },
  {
   "cell_type": "code",
   "execution_count": 4,
   "metadata": {},
   "outputs": [
    {
     "data": {
      "text/html": [
       "<div>\n",
       "<style scoped>\n",
       "    .dataframe tbody tr th:only-of-type {\n",
       "        vertical-align: middle;\n",
       "    }\n",
       "\n",
       "    .dataframe tbody tr th {\n",
       "        vertical-align: top;\n",
       "    }\n",
       "\n",
       "    .dataframe thead th {\n",
       "        text-align: right;\n",
       "    }\n",
       "</style>\n",
       "<table border=\"1\" class=\"dataframe\">\n",
       "  <thead>\n",
       "    <tr style=\"text-align: right;\">\n",
       "      <th></th>\n",
       "      <th>descVec</th>\n",
       "      <th>wordIdVec</th>\n",
       "    </tr>\n",
       "  </thead>\n",
       "  <tbody>\n",
       "    <tr>\n",
       "      <th>0</th>\n",
       "      <td>[2427, 3953, 4687, 2416, 2337, 772, 40, 4878, ...</td>\n",
       "      <td>[0, 0, 0, 0, 1, 0, 0, 0, 0, 0, 0, 0, 0, 0, 0, ...</td>\n",
       "    </tr>\n",
       "    <tr>\n",
       "      <th>1</th>\n",
       "      <td>[2427, 3209, 3954, 4687, 0, 3730, 4945, 40, 12...</td>\n",
       "      <td>[0, 0, 0, 0, 0, 1, 0, 0, 0, 0, 0, 0, 0, 0, 0, ...</td>\n",
       "    </tr>\n",
       "    <tr>\n",
       "      <th>2</th>\n",
       "      <td>[2427, 3209, 3954, 4687, 2195, 2433, 3324, 259...</td>\n",
       "      <td>[0, 0, 0, 0, 0, 0, 0, 1, 0, 0, 0, 0, 0, 0, 0, ...</td>\n",
       "    </tr>\n",
       "    <tr>\n",
       "      <th>3</th>\n",
       "      <td>[2427, 5288, 4809, 4093, 5335, 3253, 872, 3324...</td>\n",
       "      <td>[0, 0, 0, 0, 0, 0, 0, 0, 0, 0, 0, 0, 0, 0, 0, ...</td>\n",
       "    </tr>\n",
       "    <tr>\n",
       "      <th>4</th>\n",
       "      <td>[2799, 2031, 380, 3412, 772, 183, 40, 2061, 24...</td>\n",
       "      <td>[1, 0, 0, 0, 0, 0, 0, 0, 0, 0, 0, 0, 0, 0, 0, ...</td>\n",
       "    </tr>\n",
       "  </tbody>\n",
       "</table>\n",
       "</div>"
      ],
      "text/plain": [
       "                                             descVec  \\\n",
       "0  [2427, 3953, 4687, 2416, 2337, 772, 40, 4878, ...   \n",
       "1  [2427, 3209, 3954, 4687, 0, 3730, 4945, 40, 12...   \n",
       "2  [2427, 3209, 3954, 4687, 2195, 2433, 3324, 259...   \n",
       "3  [2427, 5288, 4809, 4093, 5335, 3253, 872, 3324...   \n",
       "4  [2799, 2031, 380, 3412, 772, 183, 40, 2061, 24...   \n",
       "\n",
       "                                           wordIdVec  \n",
       "0  [0, 0, 0, 0, 1, 0, 0, 0, 0, 0, 0, 0, 0, 0, 0, ...  \n",
       "1  [0, 0, 0, 0, 0, 1, 0, 0, 0, 0, 0, 0, 0, 0, 0, ...  \n",
       "2  [0, 0, 0, 0, 0, 0, 0, 1, 0, 0, 0, 0, 0, 0, 0, ...  \n",
       "3  [0, 0, 0, 0, 0, 0, 0, 0, 0, 0, 0, 0, 0, 0, 0, ...  \n",
       "4  [1, 0, 0, 0, 0, 0, 0, 0, 0, 0, 0, 0, 0, 0, 0, ...  "
      ]
     },
     "execution_count": 4,
     "metadata": {},
     "output_type": "execute_result"
    }
   ],
   "source": [
    "df.head()"
   ]
  },
  {
   "cell_type": "code",
   "execution_count": 5,
   "metadata": {},
   "outputs": [
    {
     "data": {
      "text/plain": [
       "270"
      ]
     },
     "execution_count": 5,
     "metadata": {},
     "output_type": "execute_result"
    }
   ],
   "source": [
    "max([len(i) for i in df.descVec])"
   ]
  },
  {
   "cell_type": "code",
   "execution_count": 17,
   "metadata": {},
   "outputs": [],
   "source": [
    "maxlen = 300\n",
    "max_features = 6000"
   ]
  },
  {
   "cell_type": "code",
   "execution_count": 18,
   "metadata": {},
   "outputs": [],
   "source": [
    "input_train = [list(map(int, i.strip('[').strip(']').split(','))) for i in df.descVec]\n",
    "y_train = [list(map(int, i[1:-1].replace(', ', ' ').split(' '))) for i in df.wordIdVec]\n",
    "input_train_pad = sequence.pad_sequences(input_train, maxlen=maxlen, padding='post')\n",
    "y_train_pad = sequence.pad_sequences(y_train, maxlen=maxlen, padding='post')"
   ]
  },
  {
   "cell_type": "code",
   "execution_count": 19,
   "metadata": {},
   "outputs": [
    {
     "data": {
      "text/plain": [
       "(9649, 300)"
      ]
     },
     "execution_count": 19,
     "metadata": {},
     "output_type": "execute_result"
    }
   ],
   "source": [
    "input_train_pad.shape"
   ]
  },
  {
   "cell_type": "code",
   "execution_count": 20,
   "metadata": {},
   "outputs": [],
   "source": [
    "testdf = pd.read_csv('test_encode.csv')\n",
    "\n",
    "input_test = [list(map(int, i.strip('[').strip(']').split(','))) for i in testdf.descVec]\n",
    "y_test = [list(map(float, i[1:-1].replace(', ', ' ').split(' '))) for i in testdf.wordIdVec]\n",
    "input_test_pad = sequence.pad_sequences(input_test, maxlen=maxlen, padding='post')\n",
    "y_test_pad = sequence.pad_sequences(y_test, maxlen=maxlen, padding='post')"
   ]
  },
  {
   "cell_type": "code",
   "execution_count": 21,
   "metadata": {},
   "outputs": [],
   "source": [
    "from keras.models import Sequential\n",
    "from keras.layers import Input, LSTM, Dense, Embedding, Dropout, Activation, TimeDistributed"
   ]
  },
  {
   "cell_type": "code",
   "execution_count": 24,
   "metadata": {},
   "outputs": [
    {
     "name": "stdout",
     "output_type": "stream",
     "text": [
      "_________________________________________________________________\n",
      "Layer (type)                 Output Shape              Param #   \n",
      "=================================================================\n",
      "embedding_5 (Embedding)      (None, None, 32)          192000    \n",
      "_________________________________________________________________\n",
      "lstm_9 (LSTM)                (None, None, 64)          24832     \n",
      "_________________________________________________________________\n",
      "lstm_10 (LSTM)               (None, 64)                33024     \n",
      "_________________________________________________________________\n",
      "dropout_5 (Dropout)          (None, 64)                0         \n",
      "_________________________________________________________________\n",
      "dense_5 (Dense)              (None, 300)               19500     \n",
      "=================================================================\n",
      "Total params: 269,356\n",
      "Trainable params: 269,356\n",
      "Non-trainable params: 0\n",
      "_________________________________________________________________\n"
     ]
    }
   ],
   "source": [
    "model = Sequential()\n",
    "model.add(Embedding(6000, 32))\n",
    "model.add(LSTM(64, return_sequences=True))\n",
    "model.add(LSTM(64))\n",
    "model.add(Dropout(0.5))\n",
    "model.add(Dense(maxlen, activation='softmax'))\n",
    "#model.add(Activation('softmax'))\n",
    "\n",
    "model.compile(optimizer='adam', loss='categorical_crossentropy', metrics =['categorical_accuracy'])\n",
    "model.summary()\n"
   ]
  },
  {
   "cell_type": "code",
   "execution_count": 25,
   "metadata": {},
   "outputs": [
    {
     "name": "stdout",
     "output_type": "stream",
     "text": [
      "Train on 7719 samples, validate on 1930 samples\n",
      "Epoch 1/10\n",
      "7719/7719 [==============================] - 48s 6ms/step - loss: 3.7304 - categorical_accuracy: 0.2384 - val_loss: 2.5132 - val_categorical_accuracy: 0.3187\n",
      "Epoch 2/10\n",
      "7719/7719 [==============================] - 48s 6ms/step - loss: 2.6617 - categorical_accuracy: 0.2255 - val_loss: 2.4824 - val_categorical_accuracy: 0.3187\n",
      "Epoch 3/10\n",
      "7719/7719 [==============================] - 53s 7ms/step - loss: 2.6003 - categorical_accuracy: 0.2442 - val_loss: 2.4787 - val_categorical_accuracy: 0.3187\n",
      "Epoch 4/10\n",
      "7719/7719 [==============================] - 56s 7ms/step - loss: 2.5845 - categorical_accuracy: 0.2570 - val_loss: 2.4719 - val_categorical_accuracy: 0.3187\n",
      "Epoch 5/10\n",
      "7719/7719 [==============================] - 59s 8ms/step - loss: 2.5655 - categorical_accuracy: 0.2629 - val_loss: 2.4714 - val_categorical_accuracy: 0.3187\n",
      "Epoch 6/10\n",
      "7719/7719 [==============================] - 54s 7ms/step - loss: 2.5515 - categorical_accuracy: 0.2885 - val_loss: 2.4697 - val_categorical_accuracy: 0.3187\n",
      "Epoch 7/10\n",
      "7719/7719 [==============================] - 53s 7ms/step - loss: 2.5401 - categorical_accuracy: 0.2962 - val_loss: 2.4693 - val_categorical_accuracy: 0.3187\n",
      "Epoch 8/10\n",
      "7719/7719 [==============================] - 52s 7ms/step - loss: 2.5309 - categorical_accuracy: 0.3139 - val_loss: 2.4672 - val_categorical_accuracy: 0.3187\n",
      "Epoch 9/10\n",
      "7719/7719 [==============================] - 53s 7ms/step - loss: 2.5204 - categorical_accuracy: 0.3164 - val_loss: 2.4669 - val_categorical_accuracy: 0.3187\n",
      "Epoch 10/10\n",
      "7719/7719 [==============================] - 50s 6ms/step - loss: 2.5260 - categorical_accuracy: 0.3127 - val_loss: 2.4685 - val_categorical_accuracy: 0.3187\n"
     ]
    }
   ],
   "source": [
    "#inp = input_train_pad.reshape(1, 9649,maxlen)\n",
    "res = model.fit(input_train_pad, y_train_pad, epochs = 10, batch_size=128, validation_split=0.2)"
   ]
  },
  {
   "cell_type": "markdown",
   "metadata": {},
   "source": [
    "## lstm 32: \n",
    "Epoch 1/1\n",
    "7719/7719 [==============================] - 26s 3ms/step - loss: 4.9358 - categorical_accuracy: 0.1411 - val_loss: 2.9808 - val_categorical_accuracy: 0.3187\n",
    "\n",
    "## LSTM 64:\n",
    "7719/7719 [==============================] - 37s 5ms/step - loss: 4.1176 - categorical_accuracy: 0.2493 - val_loss: 2.5061 - val_categorical_accuracy: 0.3187\n",
    "\n",
    "## LSTM 128:\n",
    "7719/7719 [==============================] - 82s 11ms/step - loss: 3.5538 - categorical_accuracy: 0.2209 - val_loss: 2.4833 - val_categorical_accuracy: 0.3187\n",
    "\n",
    "## LSTM 32 x 4 layers:\n",
    "7719/7719 [==============================] - 98s 13ms/step - loss: 4.7243 - categorical_accuracy: 0.1021 - val_loss: 2.9010 - val_categorical_accuracy: 0.0731\n",
    "\n",
    "## LSTM 64 x 3:\n",
    "7719/7719 [==============================] - 121s 16ms/step - loss: 3.8503 - categorical_accuracy: 0.1954 - val_loss: 2.5308 - val_categorical_accuracy: 0.3187\n",
    "\n",
    "## LSTM 64 x 2 layers -> best:\n",
    "7719/7719 [==============================] - 81s 10ms/step - loss: 4.0335 - categorical_accuracy: 0.2546 - val_loss: 2.5199 - val_categorical_accuracy: 0.3187\n",
    "\n",
    "## LSTM 64 x 2 layers - 10 epochs:\n",
    "Epoch 10/10\n",
    "7719/7719 [==============================] - 82s 11ms/step - loss: 2.5154 - categorical_accuracy: 0.3227 - val_loss: 2.4672 - val_categorical_accuracy: 0.3187\n",
    "\n"
   ]
  },
  {
   "cell_type": "code",
   "execution_count": 30,
   "metadata": {},
   "outputs": [
    {
     "name": "stdout",
     "output_type": "stream",
     "text": [
      "_________________________________________________________________\n",
      "Layer (type)                 Output Shape              Param #   \n",
      "=================================================================\n",
      "embedding_7 (Embedding)      (None, None, 32)          192000    \n",
      "_________________________________________________________________\n",
      "lstm_13 (LSTM)               (None, None, 64)          24832     \n",
      "_________________________________________________________________\n",
      "lstm_14 (LSTM)               (None, 64)                33024     \n",
      "_________________________________________________________________\n",
      "dropout_7 (Dropout)          (None, 64)                0         \n",
      "_________________________________________________________________\n",
      "dense_7 (Dense)              (None, 300)               19500     \n",
      "=================================================================\n",
      "Total params: 269,356\n",
      "Trainable params: 269,356\n",
      "Non-trainable params: 0\n",
      "_________________________________________________________________\n",
      "Train on 7719 samples, validate on 1930 samples\n",
      "Epoch 1/10\n",
      "7719/7719 [==============================] - 47s 6ms/step - loss: 3.6325 - acc: 0.1965 - val_loss: 3.1061 - val_acc: 0.3187\n",
      "Epoch 2/10\n",
      "7719/7719 [==============================] - 45s 6ms/step - loss: 3.0287 - acc: 0.2731 - val_loss: 3.0797 - val_acc: 0.3187\n",
      "Epoch 3/10\n",
      "7719/7719 [==============================] - 49s 6ms/step - loss: 3.0226 - acc: 0.3311 - val_loss: 2.9471 - val_acc: 0.3187\n",
      "Epoch 4/10\n",
      "7719/7719 [==============================] - 48s 6ms/step - loss: 2.9734 - acc: 0.3342 - val_loss: 3.0742 - val_acc: 0.3187\n",
      "Epoch 5/10\n",
      "7719/7719 [==============================] - 49s 6ms/step - loss: 2.9737 - acc: 0.3342 - val_loss: 2.9441 - val_acc: 0.3187\n",
      "Epoch 6/10\n",
      "7719/7719 [==============================] - 56s 7ms/step - loss: 2.9568 - acc: 0.3342 - val_loss: 2.9393 - val_acc: 0.3187\n",
      "Epoch 7/10\n",
      "7719/7719 [==============================] - 57s 7ms/step - loss: 2.9641 - acc: 0.3342 - val_loss: 2.9424 - val_acc: 0.3187\n",
      "Epoch 8/10\n",
      "7719/7719 [==============================] - 54s 7ms/step - loss: 2.9629 - acc: 0.3342 - val_loss: 2.9524 - val_acc: 0.3187\n",
      "Epoch 9/10\n",
      "7719/7719 [==============================] - 55s 7ms/step - loss: 2.9641 - acc: 0.3342 - val_loss: 2.9429 - val_acc: 0.3187\n",
      "Epoch 10/10\n",
      "7719/7719 [==============================] - 54s 7ms/step - loss: 2.9554 - acc: 0.3342 - val_loss: 2.9375 - val_acc: 0.3187\n"
     ]
    }
   ],
   "source": [
    "model = Sequential()\n",
    "model.add(Embedding(max_features, 32))\n",
    "model.add(LSTM(64, return_sequences=True))\n",
    "model.add(LSTM(64))\n",
    "model.add(Dropout(0.5))\n",
    "model.add(Dense(maxlen, activation='relu'))\n",
    "#model.add(Activation('softmax'))\n",
    "\n",
    "model.compile(optimizer='rmsprop', loss='categorical_crossentropy', metrics =['acc'])\n",
    "model.summary()\n",
    "#inp = input_train_pad.reshape(1, 9649,maxlen)\n",
    "res = model.fit(input_train_pad, y_train_pad, epochs = 10, batch_size=128, validation_split=0.2)"
   ]
  },
  {
   "cell_type": "code",
   "execution_count": 162,
   "metadata": {},
   "outputs": [
    {
     "data": {
      "text/plain": [
       "(2413, 500)"
      ]
     },
     "execution_count": 162,
     "metadata": {},
     "output_type": "execute_result"
    }
   ],
   "source": [
    "input_test_pad.shape"
   ]
  },
  {
   "cell_type": "code",
   "execution_count": 163,
   "metadata": {},
   "outputs": [],
   "source": [
    "y_test_pred = model.predict(input_test_pad)"
   ]
  },
  {
   "cell_type": "code",
   "execution_count": 165,
   "metadata": {},
   "outputs": [
    {
     "data": {
      "text/plain": [
       "(2413, 500)"
      ]
     },
     "execution_count": 165,
     "metadata": {},
     "output_type": "execute_result"
    }
   ],
   "source": [
    "y_test_pred.shape"
   ]
  },
  {
   "cell_type": "code",
   "execution_count": 167,
   "metadata": {},
   "outputs": [
    {
     "data": {
      "text/plain": [
       "(2413, 500)"
      ]
     },
     "execution_count": 167,
     "metadata": {},
     "output_type": "execute_result"
    }
   ],
   "source": [
    "y_test_pad.shape"
   ]
  },
  {
   "cell_type": "code",
   "execution_count": 177,
   "metadata": {},
   "outputs": [],
   "source": [
    "y_test_pred_nopad = [y_test_pred[:len(i)] for i in input_test]"
   ]
  },
  {
   "cell_type": "code",
   "execution_count": 147,
   "metadata": {},
   "outputs": [
    {
     "data": {
      "text/plain": [
       "[0, 0, 0, 0, 0, 0, 0, 0, 0, 0, 0, 0, 0, 0, 0, 0, 0, 0, 0, 0, 0, 0, 0, 0, 0]"
      ]
     },
     "execution_count": 147,
     "metadata": {},
     "output_type": "execute_result"
    }
   ],
   "source": [
    "#list(y_test_pred_nopad[0])"
   ]
  },
  {
   "cell_type": "code",
   "execution_count": 178,
   "metadata": {},
   "outputs": [
    {
     "ename": "ValueError",
     "evalue": "The truth value of an array with more than one element is ambiguous. Use a.any() or a.all()",
     "output_type": "error",
     "traceback": [
      "\u001b[0;31m---------------------------------------------------------------------------\u001b[0m",
      "\u001b[0;31mValueError\u001b[0m                                Traceback (most recent call last)",
      "\u001b[0;32m<ipython-input-178-d02d29175f3b>\u001b[0m in \u001b[0;36m<module>\u001b[0;34m()\u001b[0m\n\u001b[1;32m      2\u001b[0m \u001b[0macc\u001b[0m\u001b[0;34m=\u001b[0m\u001b[0;36m0\u001b[0m\u001b[0;34m\u001b[0m\u001b[0m\n\u001b[1;32m      3\u001b[0m \u001b[0;32mfor\u001b[0m \u001b[0mi\u001b[0m\u001b[0;34m,\u001b[0m \u001b[0mj\u001b[0m \u001b[0;32min\u001b[0m \u001b[0mzip\u001b[0m\u001b[0;34m(\u001b[0m\u001b[0mlist\u001b[0m\u001b[0;34m(\u001b[0m\u001b[0my_test\u001b[0m\u001b[0;34m)\u001b[0m\u001b[0;34m,\u001b[0m \u001b[0mlist\u001b[0m\u001b[0;34m(\u001b[0m\u001b[0my_test_pred_nopad\u001b[0m\u001b[0;34m)\u001b[0m\u001b[0;34m)\u001b[0m\u001b[0;34m:\u001b[0m\u001b[0;34m\u001b[0m\u001b[0m\n\u001b[0;32m----> 4\u001b[0;31m     \u001b[0;32mif\u001b[0m \u001b[0mlist\u001b[0m\u001b[0;34m(\u001b[0m\u001b[0mi\u001b[0m\u001b[0;34m)\u001b[0m\u001b[0;34m==\u001b[0m\u001b[0mlist\u001b[0m\u001b[0;34m(\u001b[0m\u001b[0mj\u001b[0m\u001b[0;34m)\u001b[0m\u001b[0;34m:\u001b[0m\u001b[0;34m\u001b[0m\u001b[0m\n\u001b[0m\u001b[1;32m      5\u001b[0m         \u001b[0macc\u001b[0m \u001b[0;34m+=\u001b[0m \u001b[0;36m1\u001b[0m\u001b[0;34m\u001b[0m\u001b[0m\n\u001b[1;32m      6\u001b[0m \u001b[0;34m\u001b[0m\u001b[0m\n",
      "\u001b[0;31mValueError\u001b[0m: The truth value of an array with more than one element is ambiguous. Use a.any() or a.all()"
     ]
    }
   ],
   "source": [
    "#from sklearn.metrics import accuracy_score\n",
    "acc=0\n",
    "for i, j in zip(list(y_test), list(y_test_pred_nopad)):\n",
    "    if list(i)==list(j):\n",
    "        acc += 1\n",
    "        \n",
    "print(acc/len(y_test_pad))"
   ]
  },
  {
   "cell_type": "code",
   "execution_count": null,
   "metadata": {},
   "outputs": [],
   "source": [
    "su = 0\n",
    "for i in y_test_pad:\n",
    "    if sum(i) != 0:\n",
    "        su += 1\n",
    "print(su)"
   ]
  },
  {
   "cell_type": "code",
   "execution_count": null,
   "metadata": {},
   "outputs": [],
   "source": [
    "# 0.14022178464089544"
   ]
  },
  {
   "cell_type": "code",
   "execution_count": 180,
   "metadata": {},
   "outputs": [
    {
     "ename": "AttributeError",
     "evalue": "'list' object has no attribute 'shape'",
     "output_type": "error",
     "traceback": [
      "\u001b[0;31m---------------------------------------------------------------------------\u001b[0m",
      "\u001b[0;31mAttributeError\u001b[0m                            Traceback (most recent call last)",
      "\u001b[0;32m<ipython-input-180-eefc3e039a1c>\u001b[0m in \u001b[0;36m<module>\u001b[0;34m()\u001b[0m\n\u001b[0;32m----> 1\u001b[0;31m \u001b[0my_test_pred_nopad\u001b[0m\u001b[0;34m.\u001b[0m\u001b[0mshape\u001b[0m\u001b[0;34m\u001b[0m\u001b[0m\n\u001b[0m",
      "\u001b[0;31mAttributeError\u001b[0m: 'list' object has no attribute 'shape'"
     ]
    }
   ],
   "source": [
    "y_test_pred_nopad.shape"
   ]
  },
  {
   "cell_type": "code",
   "execution_count": 173,
   "metadata": {},
   "outputs": [
    {
     "data": {
      "text/plain": [
       "True"
      ]
     },
     "execution_count": 173,
     "metadata": {},
     "output_type": "execute_result"
    }
   ],
   "source": [
    "[0,0] == [0,0]"
   ]
  },
  {
   "cell_type": "markdown",
   "metadata": {},
   "source": [
    "# Y TRAIN pred"
   ]
  },
  {
   "cell_type": "code",
   "execution_count": 26,
   "metadata": {},
   "outputs": [],
   "source": [
    "y_train_pred = model.predict(input_train_pad)"
   ]
  },
  {
   "cell_type": "code",
   "execution_count": 27,
   "metadata": {},
   "outputs": [
    {
     "data": {
      "text/plain": [
       "(9649, 300)"
      ]
     },
     "execution_count": 27,
     "metadata": {},
     "output_type": "execute_result"
    }
   ],
   "source": [
    "y_train_pred.shape"
   ]
  },
  {
   "cell_type": "code",
   "execution_count": 28,
   "metadata": {},
   "outputs": [
    {
     "data": {
      "text/plain": [
       "array([1.84258357e-01, 5.00209518e-02, 7.55441841e-03, 5.62371612e-02,\n",
       "       1.55574635e-01, 1.20110124e-01, 5.99166192e-02, 8.54462460e-02,\n",
       "       6.19351491e-02, 6.58268258e-02, 3.79804261e-02, 3.06578595e-02,\n",
       "       2.62765158e-02, 1.11069800e-02, 9.68732219e-03, 5.89362765e-03,\n",
       "       6.72245491e-03, 9.15608928e-03, 4.57697315e-03, 1.09240168e-03,\n",
       "       1.89800817e-03, 3.41036310e-03, 2.15204433e-03, 5.23608469e-04,\n",
       "       6.92099493e-05, 6.82335158e-05, 2.73633952e-04, 1.77113259e-06,\n",
       "       6.59047873e-06, 5.69996246e-06, 6.95252675e-06, 1.94289503e-04,\n",
       "       2.51528309e-06, 5.34686296e-06, 4.78694028e-06, 2.15346176e-06,\n",
       "       2.50296216e-06, 4.46290642e-06, 3.21452899e-06, 5.67579718e-06,\n",
       "       4.99858015e-06, 4.37822200e-06, 4.09709992e-06, 4.38858933e-06,\n",
       "       8.28472912e-05, 4.73047112e-06, 4.70773011e-06, 6.03309672e-06,\n",
       "       6.24362065e-06, 5.83162819e-06, 3.82964345e-06, 2.69262569e-06,\n",
       "       6.32536921e-06, 6.30908471e-06, 2.77333925e-06, 6.57808368e-06,\n",
       "       7.94520838e-06, 2.18283094e-06, 3.73245575e-06, 4.93982679e-06,\n",
       "       2.98545456e-06, 1.72170996e-06, 7.43984765e-06, 5.07639106e-06,\n",
       "       5.26951271e-06, 4.30782939e-06, 3.84951909e-06, 5.46436559e-06,\n",
       "       4.63908646e-06, 6.83447797e-06, 4.30212231e-06, 6.49369440e-06,\n",
       "       4.58412978e-06, 3.64550647e-06, 3.04052810e-06, 4.58392014e-06,\n",
       "       2.26003499e-06, 5.08434186e-06, 4.10419761e-06, 3.00778811e-06,\n",
       "       4.66983875e-06, 8.47888623e-06, 2.53533722e-06, 7.84580243e-06,\n",
       "       2.23921165e-06, 3.90088826e-06, 3.92602806e-06, 6.83434109e-06,\n",
       "       5.01389604e-06, 1.04592782e-05, 3.90253308e-06, 6.89937588e-06,\n",
       "       2.61243940e-06, 4.43591080e-06, 5.07265486e-06, 1.89020363e-06,\n",
       "       3.43388524e-06, 3.52408824e-06, 6.28685029e-06, 4.96200391e-06,\n",
       "       2.74024478e-06, 2.27988608e-06, 3.57930821e-06, 7.44627141e-06,\n",
       "       2.10904454e-06, 7.77338028e-06, 4.20310153e-06, 3.17253716e-06,\n",
       "       3.94643394e-06, 4.48031369e-06, 6.22569405e-06, 2.07250901e-06,\n",
       "       2.78654215e-06, 1.62256383e-05, 2.55518785e-06, 7.76520028e-06,\n",
       "       6.50743914e-06, 2.53302187e-06, 5.64119000e-06, 4.71750081e-06,\n",
       "       2.79821666e-06, 4.62879871e-06, 7.99030659e-06, 2.93624748e-06,\n",
       "       3.01050613e-06, 3.42430985e-06, 6.15359068e-06, 3.46308912e-06,\n",
       "       4.16351759e-06, 2.28002955e-06, 2.74208537e-06, 2.78515517e-06,\n",
       "       2.03597324e-06, 4.71538715e-06, 4.58036311e-06, 4.90598632e-06,\n",
       "       4.87643138e-06, 3.29448676e-06, 2.30790033e-06, 6.94827804e-06,\n",
       "       3.85277690e-06, 4.97606879e-06, 3.86833199e-06, 5.79154630e-06,\n",
       "       6.14515830e-06, 1.79949211e-06, 4.35409675e-06, 6.00627027e-06,\n",
       "       6.20826904e-06, 4.41107977e-06, 2.83189775e-06, 4.16991134e-06,\n",
       "       4.30442060e-06, 5.16851742e-06, 3.86218744e-06, 3.45028502e-06,\n",
       "       7.52430969e-06, 2.22102562e-06, 2.72518673e-06, 2.66355346e-06,\n",
       "       5.64409083e-06, 2.99661929e-06, 4.05931178e-06, 8.01398710e-06,\n",
       "       2.52259792e-06, 7.51216339e-06, 3.00768238e-06, 2.39283440e-06,\n",
       "       4.50317975e-06, 4.55039981e-06, 2.41703106e-06, 6.98370013e-06,\n",
       "       3.19211222e-06, 4.98351073e-06, 3.52820780e-06, 6.75253477e-06,\n",
       "       2.52006362e-06, 4.21121786e-06, 8.15261865e-06, 8.77025468e-06,\n",
       "       5.68360247e-06, 3.60435843e-06, 3.14596355e-06, 2.41428711e-06,\n",
       "       5.98797351e-06, 7.94258722e-06, 6.38052643e-06, 7.87853787e-06,\n",
       "       5.58711463e-06, 2.39456017e-06, 9.70344627e-06, 3.48923845e-06,\n",
       "       3.41534769e-06, 4.31380249e-06, 6.89101807e-06, 3.45812532e-06,\n",
       "       4.84306702e-06, 6.38237043e-06, 5.65378241e-06, 6.49930189e-06,\n",
       "       6.11217001e-06, 2.15689829e-06, 8.23733626e-06, 7.18249930e-06,\n",
       "       4.92210756e-06, 2.94498022e-06, 2.50559401e-06, 3.78012078e-06,\n",
       "       3.54239523e-06, 2.23234179e-06, 4.16673083e-06, 1.63567574e-06,\n",
       "       3.59864657e-06, 9.30244460e-06, 3.64621224e-06, 2.96758822e-06,\n",
       "       3.93904929e-06, 3.95180859e-06, 4.83577924e-06, 1.81884536e-06,\n",
       "       5.42572616e-06, 4.70073155e-06, 3.64822290e-06, 5.84523650e-06,\n",
       "       4.08846245e-06, 2.76469882e-06, 6.12515942e-06, 5.90933496e-06,\n",
       "       7.78494632e-06, 9.17587477e-06, 4.14128954e-06, 4.26374436e-06,\n",
       "       2.28390536e-06, 3.72430623e-06, 2.40978079e-06, 1.73399110e-06,\n",
       "       5.09879692e-06, 3.98610155e-06, 6.30880186e-06, 6.27104100e-06,\n",
       "       5.19427158e-06, 1.85896181e-06, 6.96235384e-06, 5.45216426e-06,\n",
       "       7.74421187e-06, 3.81997006e-06, 2.08065012e-06, 1.78039249e-06,\n",
       "       3.40872907e-06, 5.95658003e-06, 4.85485407e-06, 6.98691110e-06,\n",
       "       5.04682021e-06, 5.23488143e-06, 5.61787920e-06, 3.91350522e-06,\n",
       "       3.45582112e-06, 4.42931605e-06, 5.70242537e-06, 4.10055191e-06,\n",
       "       5.21387528e-06, 3.58606985e-06, 3.30778789e-06, 4.35941502e-06,\n",
       "       4.69687348e-06, 6.48300829e-06, 5.53505606e-06, 2.97287420e-06,\n",
       "       4.11709971e-06, 1.30911922e-05, 3.78772779e-06, 3.79060066e-06,\n",
       "       7.19663058e-06, 2.83206805e-06, 5.78737809e-06, 3.29468799e-06,\n",
       "       8.10999973e-06, 4.78288803e-06, 8.09401354e-06, 2.93313815e-06,\n",
       "       4.16023522e-06, 3.80296251e-06, 6.40255530e-06, 3.35745631e-06,\n",
       "       3.56297096e-06, 6.36675304e-06, 6.39888049e-06, 4.56081807e-06,\n",
       "       4.26951055e-06, 2.14613010e-06, 1.01787782e-05, 1.42536510e-05,\n",
       "       2.74860963e-06, 1.48214094e-05, 4.23296115e-06, 5.01654085e-06,\n",
       "       1.49682282e-05, 2.31917693e-06, 2.02548631e-06, 4.73906857e-06],\n",
       "      dtype=float32)"
      ]
     },
     "execution_count": 28,
     "metadata": {},
     "output_type": "execute_result"
    }
   ],
   "source": [
    "y_train_pred[0]"
   ]
  },
  {
   "cell_type": "code",
   "execution_count": null,
   "metadata": {},
   "outputs": [],
   "source": []
  },
  {
   "cell_type": "code",
   "execution_count": null,
   "metadata": {},
   "outputs": [],
   "source": []
  },
  {
   "cell_type": "markdown",
   "metadata": {},
   "source": [
    "# Y TEST pred"
   ]
  },
  {
   "cell_type": "code",
   "execution_count": null,
   "metadata": {},
   "outputs": [],
   "source": [
    "import pandas as pd\n",
    "import csv\n",
    "from utils import *\n",
    "\n",
    "vocab = pd.read_csv('vocab.csv', na_filter = False)\n",
    "vocab = list(vocab.vocab)\n",
    "\n",
    "df = pd.read_csv('test.csv', index_col=0)\n",
    "df.desc = [textPrep(i) for i in df.desc]\n",
    "df.wordId = [textPrep(i) for i in df.wordId]\n",
    "\n",
    "wordIdVec_rev = [getWordIdenFromOutputVector(originSt=list(df.desc)[i], outVec=y_test_pad[i]) for i in range(len(wordIdVec))]"
   ]
  }
 ],
 "metadata": {
  "kernelspec": {
   "display_name": "Python 3",
   "language": "python",
   "name": "python3"
  },
  "language_info": {
   "codemirror_mode": {
    "name": "ipython",
    "version": 3
   },
   "file_extension": ".py",
   "mimetype": "text/x-python",
   "name": "python",
   "nbconvert_exporter": "python",
   "pygments_lexer": "ipython3",
   "version": "3.6.5"
  }
 },
 "nbformat": 4,
 "nbformat_minor": 2
}

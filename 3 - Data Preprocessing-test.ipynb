{
 "cells": [
  {
   "cell_type": "code",
   "execution_count": 1,
   "metadata": {},
   "outputs": [],
   "source": [
    "import pandas as pd\n",
    "import csv\n",
    "from utils import *"
   ]
  },
  {
   "cell_type": "code",
   "execution_count": 2,
   "metadata": {},
   "outputs": [],
   "source": [
    "vocab = pd.read_csv('vocab.csv', na_filter = False)"
   ]
  },
  {
   "cell_type": "code",
   "execution_count": 3,
   "metadata": {},
   "outputs": [],
   "source": [
    "vocab = list(vocab.vocab)"
   ]
  },
  {
   "cell_type": "code",
   "execution_count": 4,
   "metadata": {},
   "outputs": [],
   "source": [
    "df = pd.read_csv('test.csv', index_col=0)"
   ]
  },
  {
   "cell_type": "code",
   "execution_count": 19,
   "metadata": {
    "scrolled": false
   },
   "outputs": [
    {
     "name": "stdout",
     "output_type": "stream",
     "text": [
      "(2413, 2)\n"
     ]
    },
    {
     "data": {
      "text/html": [
       "<div>\n",
       "<style scoped>\n",
       "    .dataframe tbody tr th:only-of-type {\n",
       "        vertical-align: middle;\n",
       "    }\n",
       "\n",
       "    .dataframe tbody tr th {\n",
       "        vertical-align: top;\n",
       "    }\n",
       "\n",
       "    .dataframe thead th {\n",
       "        text-align: right;\n",
       "    }\n",
       "</style>\n",
       "<table border=\"1\" class=\"dataframe\">\n",
       "  <thead>\n",
       "    <tr style=\"text-align: right;\">\n",
       "      <th></th>\n",
       "      <th>desc</th>\n",
       "      <th>wordId</th>\n",
       "    </tr>\n",
       "  </thead>\n",
       "  <tbody>\n",
       "    <tr>\n",
       "      <th>10871</th>\n",
       "      <td>vicryl rapide 4 0 undyed 75cm chỉ phẫu thuật t...</td>\n",
       "      <td>vicryl rapide</td>\n",
       "    </tr>\n",
       "    <tr>\n",
       "      <th>6852</th>\n",
       "      <td>chỉ phẫu thuật tự tiêu polydioxanone chủng loạ...</td>\n",
       "      <td>demediox</td>\n",
       "    </tr>\n",
       "    <tr>\n",
       "      <th>2441</th>\n",
       "      <td>chỉ khâu phẫu thuật không tiêu dùng trong y tế...</td>\n",
       "      <td>corolene</td>\n",
       "    </tr>\n",
       "    <tr>\n",
       "      <th>10677</th>\n",
       "      <td>vicryl plus suture 27in 70cm 4-0 chỉ phẫu thuậ...</td>\n",
       "      <td>vicryl plus</td>\n",
       "    </tr>\n",
       "    <tr>\n",
       "      <th>8793</th>\n",
       "      <td>ethilon blu 75cm m2 3 0 ps prime chỉ khâu phẫu...</td>\n",
       "      <td>ethilon</td>\n",
       "    </tr>\n",
       "  </tbody>\n",
       "</table>\n",
       "</div>"
      ],
      "text/plain": [
       "                                                    desc         wordId\n",
       "10871  vicryl rapide 4 0 undyed 75cm chỉ phẫu thuật t...  vicryl rapide\n",
       "6852   chỉ phẫu thuật tự tiêu polydioxanone chủng loạ...       demediox\n",
       "2441   chỉ khâu phẫu thuật không tiêu dùng trong y tế...       corolene\n",
       "10677  vicryl plus suture 27in 70cm 4-0 chỉ phẫu thuậ...    vicryl plus\n",
       "8793   ethilon blu 75cm m2 3 0 ps prime chỉ khâu phẫu...        ethilon"
      ]
     },
     "execution_count": 19,
     "metadata": {},
     "output_type": "execute_result"
    }
   ],
   "source": [
    "print(df.shape)\n",
    "df.head()"
   ]
  },
  {
   "cell_type": "code",
   "execution_count": 6,
   "metadata": {},
   "outputs": [],
   "source": [
    "df.desc = [textPrep(i) for i in df.desc]"
   ]
  },
  {
   "cell_type": "code",
   "execution_count": 7,
   "metadata": {},
   "outputs": [],
   "source": [
    "df.wordId = [textPrep(i) for i in df.wordId]"
   ]
  },
  {
   "cell_type": "code",
   "execution_count": 8,
   "metadata": {},
   "outputs": [
    {
     "data": {
      "text/html": [
       "<div>\n",
       "<style scoped>\n",
       "    .dataframe tbody tr th:only-of-type {\n",
       "        vertical-align: middle;\n",
       "    }\n",
       "\n",
       "    .dataframe tbody tr th {\n",
       "        vertical-align: top;\n",
       "    }\n",
       "\n",
       "    .dataframe thead th {\n",
       "        text-align: right;\n",
       "    }\n",
       "</style>\n",
       "<table border=\"1\" class=\"dataframe\">\n",
       "  <thead>\n",
       "    <tr style=\"text-align: right;\">\n",
       "      <th></th>\n",
       "      <th>desc</th>\n",
       "      <th>wordId</th>\n",
       "    </tr>\n",
       "  </thead>\n",
       "  <tbody>\n",
       "    <tr>\n",
       "      <th>10871</th>\n",
       "      <td>vicryl rapide 4 0 undyed 75cm chỉ phẫu thuật t...</td>\n",
       "      <td>vicryl rapide</td>\n",
       "    </tr>\n",
       "    <tr>\n",
       "      <th>6852</th>\n",
       "      <td>chỉ phẫu thuật tự tiêu polydioxanone chủng loạ...</td>\n",
       "      <td>demediox</td>\n",
       "    </tr>\n",
       "    <tr>\n",
       "      <th>2441</th>\n",
       "      <td>chỉ khâu phẫu thuật không tiêu dùng trong y tế...</td>\n",
       "      <td>corolene</td>\n",
       "    </tr>\n",
       "    <tr>\n",
       "      <th>10677</th>\n",
       "      <td>vicryl plus suture 27in 70cm 4-0 chỉ phẫu thuậ...</td>\n",
       "      <td>vicryl plus</td>\n",
       "    </tr>\n",
       "    <tr>\n",
       "      <th>8793</th>\n",
       "      <td>ethilon blu 75cm m2 3 0 ps prime chỉ khâu phẫu...</td>\n",
       "      <td>ethilon</td>\n",
       "    </tr>\n",
       "    <tr>\n",
       "      <th>9506</th>\n",
       "      <td>pds ii 7 0 12mm cur rd chỉ phẫu thuật tổng hợp...</td>\n",
       "      <td>pds</td>\n",
       "    </tr>\n",
       "    <tr>\n",
       "      <th>3077</th>\n",
       "      <td>chỉ khâu phẩu thuật pegesorb 1 40 1 2 90cm 12 ...</td>\n",
       "      <td>pegesorb</td>\n",
       "    </tr>\n",
       "    <tr>\n",
       "      <th>10956</th>\n",
       "      <td>vicryl und 45cm m0 7 6 0 p-1 chỉ phẫu thuật tổ...</td>\n",
       "      <td>vicryl</td>\n",
       "    </tr>\n",
       "    <tr>\n",
       "      <th>6456</th>\n",
       "      <td>chỉ phẫu thuật polypropylene bu 3-0x90-26mm hc...</td>\n",
       "      <td>filaprop</td>\n",
       "    </tr>\n",
       "    <tr>\n",
       "      <th>7676</th>\n",
       "      <td>chỉ phẫu thuật vô trùng nhãn hiệu daclon nylon...</td>\n",
       "      <td>daclon</td>\n",
       "    </tr>\n",
       "  </tbody>\n",
       "</table>\n",
       "</div>"
      ],
      "text/plain": [
       "                                                    desc         wordId\n",
       "10871  vicryl rapide 4 0 undyed 75cm chỉ phẫu thuật t...  vicryl rapide\n",
       "6852   chỉ phẫu thuật tự tiêu polydioxanone chủng loạ...       demediox\n",
       "2441   chỉ khâu phẫu thuật không tiêu dùng trong y tế...       corolene\n",
       "10677  vicryl plus suture 27in 70cm 4-0 chỉ phẫu thuậ...    vicryl plus\n",
       "8793   ethilon blu 75cm m2 3 0 ps prime chỉ khâu phẫu...        ethilon\n",
       "9506   pds ii 7 0 12mm cur rd chỉ phẫu thuật tổng hợp...            pds\n",
       "3077   chỉ khâu phẩu thuật pegesorb 1 40 1 2 90cm 12 ...       pegesorb\n",
       "10956  vicryl und 45cm m0 7 6 0 p-1 chỉ phẫu thuật tổ...         vicryl\n",
       "6456   chỉ phẫu thuật polypropylene bu 3-0x90-26mm hc...       filaprop\n",
       "7676   chỉ phẫu thuật vô trùng nhãn hiệu daclon nylon...         daclon"
      ]
     },
     "execution_count": 8,
     "metadata": {},
     "output_type": "execute_result"
    }
   ],
   "source": [
    "df.head(10)"
   ]
  },
  {
   "cell_type": "code",
   "execution_count": 9,
   "metadata": {},
   "outputs": [],
   "source": [
    "descVec = [text2code(i, vocab) for i in df.desc]"
   ]
  },
  {
   "cell_type": "code",
   "execution_count": 10,
   "metadata": {},
   "outputs": [],
   "source": [
    "descVec_rev = [code2text(i, vocab) for i in descVec]"
   ]
  },
  {
   "cell_type": "code",
   "execution_count": 11,
   "metadata": {},
   "outputs": [
    {
     "data": {
      "text/plain": [
       "0"
      ]
     },
     "execution_count": 11,
     "metadata": {},
     "output_type": "execute_result"
    }
   ],
   "source": [
    "(descVec_rev != df.desc).sum()"
   ]
  },
  {
   "cell_type": "code",
   "execution_count": 12,
   "metadata": {},
   "outputs": [],
   "source": [
    "wordIdVec = [getOutVec(i,j) for i, j in zip(df.desc, df.wordId)]"
   ]
  },
  {
   "cell_type": "code",
   "execution_count": 13,
   "metadata": {},
   "outputs": [
    {
     "data": {
      "text/plain": [
       "True"
      ]
     },
     "execution_count": 13,
     "metadata": {},
     "output_type": "execute_result"
    }
   ],
   "source": [
    "len(wordIdVec) == len(df.wordId)"
   ]
  },
  {
   "cell_type": "code",
   "execution_count": 14,
   "metadata": {},
   "outputs": [],
   "source": [
    "wordIdVec_rev = [getWordIdenFromOutputVector(originSt=list(df.desc)[i], outVec=wordIdVec[i]) for i in range(len(wordIdVec))]"
   ]
  },
  {
   "cell_type": "code",
   "execution_count": 15,
   "metadata": {},
   "outputs": [],
   "source": [
    "wordIdVec_rev = [' '.join(i) for i in wordIdVec_rev]"
   ]
  },
  {
   "cell_type": "code",
   "execution_count": 16,
   "metadata": {},
   "outputs": [],
   "source": [
    "for i in range(len(wordIdVec_rev)):\n",
    "    if wordIdVec_rev[i] == '':\n",
    "        wordIdVec_rev[i] = np.nan"
   ]
  },
  {
   "cell_type": "code",
   "execution_count": 17,
   "metadata": {
    "scrolled": true
   },
   "outputs": [],
   "source": [
    "dif = (wordIdVec_rev != df.wordId)"
   ]
  },
  {
   "cell_type": "code",
   "execution_count": 18,
   "metadata": {},
   "outputs": [
    {
     "data": {
      "text/plain": [
       "317"
      ]
     },
     "execution_count": 18,
     "metadata": {},
     "output_type": "execute_result"
    }
   ],
   "source": [
    "dif.sum() #317 for space"
   ]
  },
  {
   "cell_type": "code",
   "execution_count": 20,
   "metadata": {},
   "outputs": [],
   "source": [
    "import csv\n",
    "\n",
    "with open('test_encode.csv', 'w') as f:\n",
    "    writer = csv.writer(f)\n",
    "    writer.writerow([\"descVec\", \"wordIdVec\"])\n",
    "    writer.writerows(zip(descVec ,wordIdVec))"
   ]
  },
  {
   "cell_type": "code",
   "execution_count": null,
   "metadata": {},
   "outputs": [],
   "source": []
  }
 ],
 "metadata": {
  "kernelspec": {
   "display_name": "Python 3",
   "language": "python",
   "name": "python3"
  },
  "language_info": {
   "codemirror_mode": {
    "name": "ipython",
    "version": 3
   },
   "file_extension": ".py",
   "mimetype": "text/x-python",
   "name": "python",
   "nbconvert_exporter": "python",
   "pygments_lexer": "ipython3",
   "version": "3.6.5"
  }
 },
 "nbformat": 4,
 "nbformat_minor": 2
}

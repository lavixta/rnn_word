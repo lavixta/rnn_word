{
 "cells": [
  {
   "cell_type": "code",
   "execution_count": 12,
   "metadata": {},
   "outputs": [],
   "source": [
    "import pandas as pd\n",
    "from sklearn.model_selection import train_test_split\n",
    "import numpy as np\n",
    "import string"
   ]
  },
  {
   "cell_type": "code",
   "execution_count": 13,
   "metadata": {},
   "outputs": [],
   "source": [
    "df = pd.read_csv('DataSuture.csv')"
   ]
  },
  {
   "cell_type": "code",
   "execution_count": 14,
   "metadata": {},
   "outputs": [
    {
     "data": {
      "text/html": [
       "<div>\n",
       "<style scoped>\n",
       "    .dataframe tbody tr th:only-of-type {\n",
       "        vertical-align: middle;\n",
       "    }\n",
       "\n",
       "    .dataframe tbody tr th {\n",
       "        vertical-align: top;\n",
       "    }\n",
       "\n",
       "    .dataframe thead th {\n",
       "        text-align: right;\n",
       "    }\n",
       "</style>\n",
       "<table border=\"1\" class=\"dataframe\">\n",
       "  <thead>\n",
       "    <tr style=\"text-align: right;\">\n",
       "      <th></th>\n",
       "      <th>desc</th>\n",
       "      <th>wordId</th>\n",
       "    </tr>\n",
       "  </thead>\n",
       "  <tbody>\n",
       "    <tr>\n",
       "      <th>0</th>\n",
       "      <td>Chỉ phẫu thuật  TICRON  (36 tép / hộp)  88...</td>\n",
       "      <td>Ticron</td>\n",
       "    </tr>\n",
       "    <tr>\n",
       "      <th>1</th>\n",
       "      <td>CHỈ  KHÂU PHẪU THUẬT TỰ TIÊU SINH HỌC  PLAIN...</td>\n",
       "      <td>Plain</td>\n",
       "    </tr>\n",
       "    <tr>\n",
       "      <th>2</th>\n",
       "      <td>CHỈ  KHÂU PHẪU THUẬT TỰ TIÊU SINH HỌC  PLAIN...</td>\n",
       "      <td>Plain</td>\n",
       "    </tr>\n",
       "    <tr>\n",
       "      <th>3</th>\n",
       "      <td>CHỈ  KHÂU PHẪU THUẬT TỰ TIÊU SINH HỌC CHROMI...</td>\n",
       "      <td>Chromic</td>\n",
       "    </tr>\n",
       "    <tr>\n",
       "      <th>4</th>\n",
       "      <td>CHỈ  KHÂU PHẪU THUẬT TỰ TIÊU SINH HỌC CHROMI...</td>\n",
       "      <td>Chromic</td>\n",
       "    </tr>\n",
       "  </tbody>\n",
       "</table>\n",
       "</div>"
      ],
      "text/plain": [
       "                                                desc   wordId\n",
       "0      Chỉ phẫu thuật  TICRON  (36 tép / hộp)  88...   Ticron\n",
       "1    CHỈ  KHÂU PHẪU THUẬT TỰ TIÊU SINH HỌC  PLAIN...    Plain\n",
       "2    CHỈ  KHÂU PHẪU THUẬT TỰ TIÊU SINH HỌC  PLAIN...    Plain\n",
       "3    CHỈ  KHÂU PHẪU THUẬT TỰ TIÊU SINH HỌC CHROMI...  Chromic\n",
       "4    CHỈ  KHÂU PHẪU THUẬT TỰ TIÊU SINH HỌC CHROMI...  Chromic"
      ]
     },
     "execution_count": 14,
     "metadata": {},
     "output_type": "execute_result"
    }
   ],
   "source": [
    "df.head()"
   ]
  },
  {
   "cell_type": "code",
   "execution_count": 15,
   "metadata": {},
   "outputs": [
    {
     "data": {
      "text/html": [
       "<div>\n",
       "<style scoped>\n",
       "    .dataframe tbody tr th:only-of-type {\n",
       "        vertical-align: middle;\n",
       "    }\n",
       "\n",
       "    .dataframe tbody tr th {\n",
       "        vertical-align: top;\n",
       "    }\n",
       "\n",
       "    .dataframe thead th {\n",
       "        text-align: right;\n",
       "    }\n",
       "</style>\n",
       "<table border=\"1\" class=\"dataframe\">\n",
       "  <thead>\n",
       "    <tr style=\"text-align: right;\">\n",
       "      <th></th>\n",
       "      <th>desc</th>\n",
       "      <th>wordId</th>\n",
       "    </tr>\n",
       "  </thead>\n",
       "  <tbody>\n",
       "    <tr>\n",
       "      <th>0</th>\n",
       "      <td>chỉ phẫu thuật  ticron  (36 tép / hộp)  88...</td>\n",
       "      <td>ticron</td>\n",
       "    </tr>\n",
       "    <tr>\n",
       "      <th>1</th>\n",
       "      <td>chỉ  khâu phẫu thuật tự tiêu sinh học  plain...</td>\n",
       "      <td>plain</td>\n",
       "    </tr>\n",
       "    <tr>\n",
       "      <th>2</th>\n",
       "      <td>chỉ  khâu phẫu thuật tự tiêu sinh học  plain...</td>\n",
       "      <td>plain</td>\n",
       "    </tr>\n",
       "    <tr>\n",
       "      <th>3</th>\n",
       "      <td>chỉ  khâu phẫu thuật tự tiêu sinh học chromi...</td>\n",
       "      <td>chromic</td>\n",
       "    </tr>\n",
       "    <tr>\n",
       "      <th>4</th>\n",
       "      <td>chỉ  khâu phẫu thuật tự tiêu sinh học chromi...</td>\n",
       "      <td>chromic</td>\n",
       "    </tr>\n",
       "  </tbody>\n",
       "</table>\n",
       "</div>"
      ],
      "text/plain": [
       "                                                desc   wordId\n",
       "0      chỉ phẫu thuật  ticron  (36 tép / hộp)  88...   ticron\n",
       "1    chỉ  khâu phẫu thuật tự tiêu sinh học  plain...    plain\n",
       "2    chỉ  khâu phẫu thuật tự tiêu sinh học  plain...    plain\n",
       "3    chỉ  khâu phẫu thuật tự tiêu sinh học chromi...  chromic\n",
       "4    chỉ  khâu phẫu thuật tự tiêu sinh học chromi...  chromic"
      ]
     },
     "execution_count": 15,
     "metadata": {},
     "output_type": "execute_result"
    }
   ],
   "source": [
    "df.desc = df.desc.astype(str).str.lower()\n",
    "df.wordId = df.wordId.astype(str).str.lower()\n",
    "df.head()"
   ]
  },
  {
   "cell_type": "code",
   "execution_count": 16,
   "metadata": {},
   "outputs": [],
   "source": [
    "traindf, testdf = train_test_split(df, test_size=0.2, random_state=1)"
   ]
  },
  {
   "cell_type": "code",
   "execution_count": 17,
   "metadata": {},
   "outputs": [
    {
     "data": {
      "text/plain": [
       "(9649, 2)"
      ]
     },
     "execution_count": 17,
     "metadata": {},
     "output_type": "execute_result"
    }
   ],
   "source": [
    "traindf.shape"
   ]
  },
  {
   "cell_type": "code",
   "execution_count": 18,
   "metadata": {},
   "outputs": [],
   "source": [
    "test_desc = traindf.desc[2285]\n",
    "tdesc = test_desc.strip().split(' ')\n",
    "test_word = traindf.wordId[2285]\n",
    "tword = test_word.strip().split(' ')"
   ]
  },
  {
   "cell_type": "code",
   "execution_count": 19,
   "metadata": {},
   "outputs": [
    {
     "data": {
      "text/plain": [
       "['optime', 'r']"
      ]
     },
     "execution_count": 19,
     "metadata": {},
     "output_type": "execute_result"
    }
   ],
   "source": [
    "tword"
   ]
  },
  {
   "cell_type": "code",
   "execution_count": 20,
   "metadata": {},
   "outputs": [
    {
     "data": {
      "text/plain": [
       "'chỉ khâu phẫu thuật dùng trong y tế: optime r  2/0 1/2 kl36 90cm, lô: 8974,8975 hd: 2019, nhà sx: peters surgical, foc'"
      ]
     },
     "execution_count": 20,
     "metadata": {},
     "output_type": "execute_result"
    }
   ],
   "source": [
    "test_desc"
   ]
  },
  {
   "cell_type": "code",
   "execution_count": 22,
   "metadata": {},
   "outputs": [
    {
     "data": {
      "text/plain": [
       "['optime', 'r']"
      ]
     },
     "execution_count": 22,
     "metadata": {},
     "output_type": "execute_result"
    }
   ],
   "source": [
    "test_word.strip().split(\" \")"
   ]
  },
  {
   "cell_type": "code",
   "execution_count": 23,
   "metadata": {
    "scrolled": true
   },
   "outputs": [],
   "source": [
    "#encode_string(test_desc, test_word)"
   ]
  },
  {
   "cell_type": "markdown",
   "metadata": {},
   "source": [
    "# Remove punctuation"
   ]
  },
  {
   "cell_type": "code",
   "execution_count": 24,
   "metadata": {},
   "outputs": [
    {
     "data": {
      "text/plain": [
       "'chỉ khâu phẫu thuật dùng trong y tế  optime r  2 0 1 2 kl36 90cm  lô  8974 8975 hd  2019  nhà sx  peters surgical  foc'"
      ]
     },
     "execution_count": 24,
     "metadata": {},
     "output_type": "execute_result"
    }
   ],
   "source": [
    "punc_table = str.maketrans({key: ' ' for key in string.punctuation})\n",
    "test_desc.translate(punc_table)"
   ]
  },
  {
   "cell_type": "code",
   "execution_count": 25,
   "metadata": {},
   "outputs": [
    {
     "name": "stderr",
     "output_type": "stream",
     "text": [
      "/home/huypham/anaconda3/lib/python3.6/site-packages/ipykernel_launcher.py:1: SettingWithCopyWarning: \n",
      "A value is trying to be set on a copy of a slice from a DataFrame.\n",
      "Try using .loc[row_indexer,col_indexer] = value instead\n",
      "\n",
      "See the caveats in the documentation: http://pandas.pydata.org/pandas-docs/stable/indexing.html#indexing-view-versus-copy\n",
      "  \"\"\"Entry point for launching an IPython kernel.\n",
      "/home/huypham/anaconda3/lib/python3.6/site-packages/ipykernel_launcher.py:2: SettingWithCopyWarning: \n",
      "A value is trying to be set on a copy of a slice from a DataFrame.\n",
      "Try using .loc[row_indexer,col_indexer] = value instead\n",
      "\n",
      "See the caveats in the documentation: http://pandas.pydata.org/pandas-docs/stable/indexing.html#indexing-view-versus-copy\n",
      "  \n"
     ]
    },
    {
     "data": {
      "text/html": [
       "<div>\n",
       "<style scoped>\n",
       "    .dataframe tbody tr th:only-of-type {\n",
       "        vertical-align: middle;\n",
       "    }\n",
       "\n",
       "    .dataframe tbody tr th {\n",
       "        vertical-align: top;\n",
       "    }\n",
       "\n",
       "    .dataframe thead th {\n",
       "        text-align: right;\n",
       "    }\n",
       "</style>\n",
       "<table border=\"1\" class=\"dataframe\">\n",
       "  <thead>\n",
       "    <tr style=\"text-align: right;\">\n",
       "      <th></th>\n",
       "      <th>desc</th>\n",
       "      <th>wordId</th>\n",
       "    </tr>\n",
       "  </thead>\n",
       "  <tbody>\n",
       "    <tr>\n",
       "      <th>9854</th>\n",
       "      <td>prolene blu 75cm m1 5 0 rb 2  chỉ phẫu thuật t...</td>\n",
       "      <td>prolene</td>\n",
       "    </tr>\n",
       "    <tr>\n",
       "      <th>3624</th>\n",
       "      <td>chỉ khâu phẫu thuật tự tiêu chậm  dùng trong y...</td>\n",
       "      <td>monotime</td>\n",
       "    </tr>\n",
       "    <tr>\n",
       "      <th>2787</th>\n",
       "      <td>chỉ khâu phẫu thuật loại tự tiêu ecosorb  loại...</td>\n",
       "      <td>ecosorb</td>\n",
       "    </tr>\n",
       "    <tr>\n",
       "      <th>3786</th>\n",
       "      <td>chỉ khâu phẫu thuật tự tiêu sinh học bán thành...</td>\n",
       "      <td>plain</td>\n",
       "    </tr>\n",
       "    <tr>\n",
       "      <th>2285</th>\n",
       "      <td>chỉ khâu phẫu thuật dùng trong y tế  optime r ...</td>\n",
       "      <td>optime r</td>\n",
       "    </tr>\n",
       "    <tr>\n",
       "      <th>11354</th>\n",
       "      <td>vicryl vio 75cm m4 1 cp chỉ khâu phẫu thuật vô...</td>\n",
       "      <td>vicryl</td>\n",
       "    </tr>\n",
       "    <tr>\n",
       "      <th>1859</th>\n",
       "      <td>chỉ khâu phẫu thuật   surgical suture   luxcry...</td>\n",
       "      <td>luxcryl</td>\n",
       "    </tr>\n",
       "    <tr>\n",
       "      <th>1144</th>\n",
       "      <td>chỉ khâu phẫu thuật   safil violet 4 0  1 5  7...</td>\n",
       "      <td>safil</td>\n",
       "    </tr>\n",
       "    <tr>\n",
       "      <th>2558</th>\n",
       "      <td>chỉ khâu phẫu thuật không tiêu  dùng trong y t...</td>\n",
       "      <td>cardionyl</td>\n",
       "    </tr>\n",
       "    <tr>\n",
       "      <th>694</th>\n",
       "      <td>chỉ khâu phẩu thuật   dafilon blue 5 0  1  45c...</td>\n",
       "      <td>dafilon</td>\n",
       "    </tr>\n",
       "  </tbody>\n",
       "</table>\n",
       "</div>"
      ],
      "text/plain": [
       "                                                    desc     wordId\n",
       "9854   prolene blu 75cm m1 5 0 rb 2  chỉ phẫu thuật t...    prolene\n",
       "3624   chỉ khâu phẫu thuật tự tiêu chậm  dùng trong y...   monotime\n",
       "2787   chỉ khâu phẫu thuật loại tự tiêu ecosorb  loại...    ecosorb\n",
       "3786   chỉ khâu phẫu thuật tự tiêu sinh học bán thành...      plain\n",
       "2285   chỉ khâu phẫu thuật dùng trong y tế  optime r ...   optime r\n",
       "11354  vicryl vio 75cm m4 1 cp chỉ khâu phẫu thuật vô...     vicryl\n",
       "1859   chỉ khâu phẫu thuật   surgical suture   luxcry...    luxcryl\n",
       "1144   chỉ khâu phẫu thuật   safil violet 4 0  1 5  7...      safil\n",
       "2558   chỉ khâu phẫu thuật không tiêu  dùng trong y t...  cardionyl\n",
       "694    chỉ khâu phẩu thuật   dafilon blue 5 0  1  45c...    dafilon"
      ]
     },
     "execution_count": 25,
     "metadata": {},
     "output_type": "execute_result"
    }
   ],
   "source": [
    "traindf['desc'] = [i.translate(punc_table) for i in traindf.desc]\n",
    "traindf['wordId'] = [i.translate(punc_table) for i in traindf.wordId]\n",
    "traindf.head(10)"
   ]
  },
  {
   "cell_type": "markdown",
   "metadata": {},
   "source": [
    "# REMOVE DUPLICATED SPACE"
   ]
  },
  {
   "cell_type": "code",
   "execution_count": 26,
   "metadata": {},
   "outputs": [
    {
     "name": "stderr",
     "output_type": "stream",
     "text": [
      "/home/huypham/anaconda3/lib/python3.6/site-packages/pandas/core/generic.py:4401: SettingWithCopyWarning: \n",
      "A value is trying to be set on a copy of a slice from a DataFrame.\n",
      "Try using .loc[row_indexer,col_indexer] = value instead\n",
      "\n",
      "See the caveats in the documentation: http://pandas.pydata.org/pandas-docs/stable/indexing.html#indexing-view-versus-copy\n",
      "  self[name] = value\n"
     ]
    }
   ],
   "source": [
    "import re\n",
    "traindf.desc = [re.sub(' +', ' ',i.strip()) for i in traindf.desc]\n",
    "traindf.wordId = [re.sub(' +', ' ',i.strip()) for i in traindf.wordId]"
   ]
  },
  {
   "cell_type": "code",
   "execution_count": 27,
   "metadata": {},
   "outputs": [
    {
     "data": {
      "text/plain": [
       "'chỉ khâu phẫu thuật loại tự tiêu ecosorb loại usp 4 0 dài 75cm kim rh 17mm mã e47rh170 12 cuộn hộp sx năm 2016 mới 100 hãng sx vigilenz medical devices'"
      ]
     },
     "execution_count": 27,
     "metadata": {},
     "output_type": "execute_result"
    }
   ],
   "source": [
    "traindf.desc[2787]"
   ]
  },
  {
   "cell_type": "markdown",
   "metadata": {},
   "source": [
    "# BUILD VOCABULARY"
   ]
  },
  {
   "cell_type": "code",
   "execution_count": 28,
   "metadata": {},
   "outputs": [],
   "source": [
    "vocab = set()\n",
    "for i in traindf.desc:\n",
    "    vocab.update(i.strip().split(' '))\n",
    "\n",
    "for i in traindf.wordId:\n",
    "    vocab.update(i.strip().split(' '))\n"
   ]
  },
  {
   "cell_type": "code",
   "execution_count": 29,
   "metadata": {},
   "outputs": [
    {
     "data": {
      "text/plain": [
       "4701"
      ]
     },
     "execution_count": 29,
     "metadata": {},
     "output_type": "execute_result"
    }
   ],
   "source": [
    "vocab = sorted(vocab)\n",
    "len(vocab)"
   ]
  },
  {
   "cell_type": "markdown",
   "metadata": {},
   "source": [
    "## Write vocab file"
   ]
  },
  {
   "cell_type": "code",
   "execution_count": 32,
   "metadata": {},
   "outputs": [],
   "source": [
    "#with open('vocab.txt', 'w') as f:\n",
    "#    for item in vocab:\n",
    "#        f.write(\"%s\\n\" % item)"
   ]
  },
  {
   "cell_type": "markdown",
   "metadata": {},
   "source": [
    "# BUILD WORDVEC"
   ]
  },
  {
   "cell_type": "code",
   "execution_count": 33,
   "metadata": {},
   "outputs": [],
   "source": [
    "wordvec = []\n",
    "\n",
    "for des in traindf.desc:\n",
    "    vec = []\n",
    "    for w in des.strip().split(' '):\n",
    "        if w in vocab:\n",
    "            vec.append(vocab.index(w))\n",
    "        else:\n",
    "            vec.append(np.NaN)\n",
    "    wordvec.append(vec)"
   ]
  },
  {
   "cell_type": "code",
   "execution_count": 35,
   "metadata": {},
   "outputs": [
    {
     "name": "stdout",
     "output_type": "stream",
     "text": [
      "chỉ khâu phẫu thuật loại tự tiêu ecosorb loại usp 4 0 dài 75cm kim rh 17mm mã e47rh170 12 cuộn hộp sx năm 2016 mới 100 hãng sx vigilenz medical devices "
     ]
    }
   ],
   "source": [
    "for i in wordvec[2]: print(vocab[i], end=' ')"
   ]
  },
  {
   "cell_type": "code",
   "execution_count": 36,
   "metadata": {},
   "outputs": [
    {
     "data": {
      "text/plain": [
       "'chỉ khâu phẫu thuật loại tự tiêu ecosorb loại usp 4 0 dài 75cm kim rh 17mm mã e47rh170 12 cuộn hộp sx năm 2016 mới 100 hãng sx vigilenz medical devices'"
      ]
     },
     "execution_count": 36,
     "metadata": {},
     "output_type": "execute_result"
    }
   ],
   "source": [
    "traindf.desc[2787]"
   ]
  },
  {
   "cell_type": "markdown",
   "metadata": {},
   "source": [
    "# BUILD OUTPUT_VEC"
   ]
  },
  {
   "cell_type": "code",
   "execution_count": 1,
   "metadata": {},
   "outputs": [],
   "source": [
    "def encode_string(st, pat):\n",
    "    enc = []\n",
    "     \n",
    "    if (pat not in [np.nan, None]):\n",
    "        if st.strip().split(pat)[0] == '':\n",
    "            enc.append(np.ones(len(pat.strip().split(' '))))\n",
    "            st = st[len(pat):]\n",
    "        \n",
    "        st = st.lower()\n",
    "        pat = pat.lower()\n",
    "        pat = ' ' + pat + ' '\n",
    "        \n",
    "        for item in st.split(pat)[:-1]:\n",
    "            enc.append(np.zeros(len(item.strip().split(' '))))\n",
    "            enc.append(np.ones(len(pat.strip().split(' '))))\n",
    "        enc.append(np.zeros(len(st.split(pat)[-1].strip().split(' '))))\n",
    "        flat = [i for sub in enc for i in sub]\n",
    "        return flat\n",
    "    else:\n",
    "        return np.zeros(len(st.strip().split(' ')))\n"
   ]
  },
  {
   "cell_type": "code",
   "execution_count": null,
   "metadata": {},
   "outputs": [],
   "source": [
    "# encode_string(traindf.desc[2787], traindf.wordId[2787])"
   ]
  },
  {
   "cell_type": "code",
   "execution_count": 44,
   "metadata": {},
   "outputs": [
    {
     "data": {
      "text/plain": [
       "[array([0., 0.]), array([1.]), array([0.]), array([1.]), array([0., 0., 0.])]"
      ]
     },
     "execution_count": 44,
     "metadata": {},
     "output_type": "execute_result"
    }
   ],
   "source": [
    "enc"
   ]
  },
  {
   "cell_type": "code",
   "execution_count": 45,
   "metadata": {},
   "outputs": [
    {
     "data": {
      "text/plain": [
       "' is my name'"
      ]
     },
     "execution_count": 45,
     "metadata": {},
     "output_type": "execute_result"
    }
   ],
   "source": [
    "a.split('Huy')[-1]"
   ]
  },
  {
   "cell_type": "code",
   "execution_count": 46,
   "metadata": {},
   "outputs": [],
   "source": [
    "flat_enc = [i for sub in enc for i in sub]"
   ]
  },
  {
   "cell_type": "code",
   "execution_count": 47,
   "metadata": {},
   "outputs": [
    {
     "data": {
      "text/plain": [
       "[0.0, 0.0, 1.0, 0.0, 1.0, 0.0, 0.0, 0.0]"
      ]
     },
     "execution_count": 47,
     "metadata": {},
     "output_type": "execute_result"
    }
   ],
   "source": [
    "flat_enc"
   ]
  },
  {
   "cell_type": "code",
   "execution_count": 48,
   "metadata": {},
   "outputs": [
    {
     "data": {
      "text/plain": [
       "[0.0, 0.0, 1.0, 0.0, 1.0, 0.0, 0.0, 0.0]"
      ]
     },
     "execution_count": 48,
     "metadata": {},
     "output_type": "execute_result"
    }
   ],
   "source": [
    "encode_string(a, \"huy\")"
   ]
  },
  {
   "cell_type": "code",
   "execution_count": 49,
   "metadata": {},
   "outputs": [],
   "source": [
    "outvec = []\n",
    "for idx, row in traindf.iterrows():\n",
    "    try:\n",
    "        outvec.append(encode_string(row['desc'], row['wordId']))\n",
    "    except:\n",
    "        print(idx)\n",
    "        break"
   ]
  },
  {
   "cell_type": "code",
   "execution_count": 50,
   "metadata": {},
   "outputs": [],
   "source": [
    "a = outvec[1]"
   ]
  },
  {
   "cell_type": "code",
   "execution_count": 51,
   "metadata": {},
   "outputs": [],
   "source": [
    "b = encode_string(traindf.desc[3624], traindf.wordId[3624])"
   ]
  },
  {
   "cell_type": "code",
   "execution_count": 52,
   "metadata": {},
   "outputs": [
    {
     "data": {
      "text/plain": [
       "True"
      ]
     },
     "execution_count": 52,
     "metadata": {},
     "output_type": "execute_result"
    }
   ],
   "source": [
    "a == b"
   ]
  },
  {
   "cell_type": "code",
   "execution_count": 53,
   "metadata": {},
   "outputs": [
    {
     "data": {
      "text/plain": [
       "True"
      ]
     },
     "execution_count": 53,
     "metadata": {},
     "output_type": "execute_result"
    }
   ],
   "source": [
    "len(outvec) == len(wordvec)"
   ]
  },
  {
   "cell_type": "markdown",
   "metadata": {},
   "source": [
    "## Write training data to csv file"
   ]
  },
  {
   "cell_type": "code",
   "execution_count": 54,
   "metadata": {},
   "outputs": [],
   "source": [
    "import csv\n",
    "\n",
    "with open('traindf.csv', 'w') as f:\n",
    "    writer = csv.writer(f)\n",
    "    writer.writerow([\"wordvec\", \"outvec\"])\n",
    "    writer.writerows(zip(wordvec, outvec))"
   ]
  }
 ],
 "metadata": {
  "kernelspec": {
   "display_name": "Python 3",
   "language": "python",
   "name": "python3"
  },
  "language_info": {
   "codemirror_mode": {
    "name": "ipython",
    "version": 3
   },
   "file_extension": ".py",
   "mimetype": "text/x-python",
   "name": "python",
   "nbconvert_exporter": "python",
   "pygments_lexer": "ipython3",
   "version": "3.6.5"
  }
 },
 "nbformat": 4,
 "nbformat_minor": 2
}

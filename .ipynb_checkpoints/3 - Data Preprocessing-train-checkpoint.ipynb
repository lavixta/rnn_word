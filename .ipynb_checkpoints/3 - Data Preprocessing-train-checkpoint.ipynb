{
 "cells": [
  {
   "cell_type": "code",
   "execution_count": 1,
   "metadata": {},
   "outputs": [],
   "source": [
    "import pandas as pd\n",
    "import csv\n",
    "from utils import *"
   ]
  },
  {
   "cell_type": "code",
   "execution_count": 2,
   "metadata": {},
   "outputs": [],
   "source": [
    "vocab = pd.read_csv('vocab.csv', na_filter = False)"
   ]
  },
  {
   "cell_type": "code",
   "execution_count": 3,
   "metadata": {},
   "outputs": [],
   "source": [
    "vocab = list(vocab.vocab)"
   ]
  },
  {
   "cell_type": "code",
   "execution_count": 4,
   "metadata": {},
   "outputs": [],
   "source": [
    "df = pd.read_csv('train.csv', index_col=0)"
   ]
  },
  {
   "cell_type": "code",
   "execution_count": 5,
   "metadata": {
    "scrolled": false
   },
   "outputs": [
    {
     "data": {
      "text/html": [
       "<div>\n",
       "<style scoped>\n",
       "    .dataframe tbody tr th:only-of-type {\n",
       "        vertical-align: middle;\n",
       "    }\n",
       "\n",
       "    .dataframe tbody tr th {\n",
       "        vertical-align: top;\n",
       "    }\n",
       "\n",
       "    .dataframe thead th {\n",
       "        text-align: right;\n",
       "    }\n",
       "</style>\n",
       "<table border=\"1\" class=\"dataframe\">\n",
       "  <thead>\n",
       "    <tr style=\"text-align: right;\">\n",
       "      <th></th>\n",
       "      <th>desc</th>\n",
       "      <th>wordId</th>\n",
       "    </tr>\n",
       "  </thead>\n",
       "  <tbody>\n",
       "    <tr>\n",
       "      <th>8057</th>\n",
       "      <td>Chỉ phẩu thuật: CHROMIC CATGUT 2/0 USP SIZE. (...</td>\n",
       "      <td>CatGut</td>\n",
       "    </tr>\n",
       "    <tr>\n",
       "      <th>866</th>\n",
       "      <td>Chỉ khâu phẫu thuật - NOVOSYN VIOLET 0 (3,5) 9...</td>\n",
       "      <td>NOVOSYN</td>\n",
       "    </tr>\n",
       "    <tr>\n",
       "      <th>1524</th>\n",
       "      <td>Chỉ Khâu Phẫu Thuật (C0935123). Chủng loại: DA...</td>\n",
       "      <td>DAFILON</td>\n",
       "    </tr>\n",
       "    <tr>\n",
       "      <th>8248</th>\n",
       "      <td>Chỉ y tế Progut đường kính 20mm, loại 3-0, dài...</td>\n",
       "      <td>GUT</td>\n",
       "    </tr>\n",
       "    <tr>\n",
       "      <th>8623</th>\n",
       "      <td>ETHILON BLK 13CM M0.2 10/0 BV130-4 _Chỉ phẫu t...</td>\n",
       "      <td>ETHILON</td>\n",
       "    </tr>\n",
       "  </tbody>\n",
       "</table>\n",
       "</div>"
      ],
      "text/plain": [
       "                                                   desc   wordId\n",
       "8057  Chỉ phẩu thuật: CHROMIC CATGUT 2/0 USP SIZE. (...   CatGut\n",
       "866   Chỉ khâu phẫu thuật - NOVOSYN VIOLET 0 (3,5) 9...  NOVOSYN\n",
       "1524  Chỉ Khâu Phẫu Thuật (C0935123). Chủng loại: DA...  DAFILON\n",
       "8248  Chỉ y tế Progut đường kính 20mm, loại 3-0, dài...      GUT\n",
       "8623  ETHILON BLK 13CM M0.2 10/0 BV130-4 _Chỉ phẫu t...  ETHILON"
      ]
     },
     "execution_count": 5,
     "metadata": {},
     "output_type": "execute_result"
    }
   ],
   "source": [
    "df.head()"
   ]
  },
  {
   "cell_type": "code",
   "execution_count": 6,
   "metadata": {},
   "outputs": [],
   "source": [
    "df.desc = [textPrep(i) for i in df.desc]"
   ]
  },
  {
   "cell_type": "code",
   "execution_count": 7,
   "metadata": {},
   "outputs": [],
   "source": [
    "df.wordId = [textPrep(i) for i in df.wordId]"
   ]
  },
  {
   "cell_type": "code",
   "execution_count": 8,
   "metadata": {},
   "outputs": [
    {
     "data": {
      "text/html": [
       "<div>\n",
       "<style scoped>\n",
       "    .dataframe tbody tr th:only-of-type {\n",
       "        vertical-align: middle;\n",
       "    }\n",
       "\n",
       "    .dataframe tbody tr th {\n",
       "        vertical-align: top;\n",
       "    }\n",
       "\n",
       "    .dataframe thead th {\n",
       "        text-align: right;\n",
       "    }\n",
       "</style>\n",
       "<table border=\"1\" class=\"dataframe\">\n",
       "  <thead>\n",
       "    <tr style=\"text-align: right;\">\n",
       "      <th></th>\n",
       "      <th>desc</th>\n",
       "      <th>wordId</th>\n",
       "    </tr>\n",
       "  </thead>\n",
       "  <tbody>\n",
       "    <tr>\n",
       "      <th>8057</th>\n",
       "      <td>chỉ phẩu thuật chromic catgut 2 0 usp size hàn...</td>\n",
       "      <td>catgut</td>\n",
       "    </tr>\n",
       "    <tr>\n",
       "      <th>866</th>\n",
       "      <td>chỉ khâu phẫu thuật - novosyn violet 0 3 5 90c...</td>\n",
       "      <td>novosyn</td>\n",
       "    </tr>\n",
       "    <tr>\n",
       "      <th>1524</th>\n",
       "      <td>chỉ khâu phẫu thuật c0935123 chủng loại dafilo...</td>\n",
       "      <td>dafilon</td>\n",
       "    </tr>\n",
       "    <tr>\n",
       "      <th>8248</th>\n",
       "      <td>chỉ y tế progut đường kính 20mm loại 3-0 dài 7...</td>\n",
       "      <td>gut</td>\n",
       "    </tr>\n",
       "    <tr>\n",
       "      <th>8623</th>\n",
       "      <td>ethilon blk 13cm m0 2 10 0 bv130-4 chỉ phẫu th...</td>\n",
       "      <td>ethilon</td>\n",
       "    </tr>\n",
       "    <tr>\n",
       "      <th>2679</th>\n",
       "      <td>chỉ khâu phẫu thuật liền kim jbp v lift 29046a...</td>\n",
       "      <td>NaN</td>\n",
       "    </tr>\n",
       "    <tr>\n",
       "      <th>7084</th>\n",
       "      <td>chỉ phẫu thuật vô trùng mới 100 nhãn hiệu catg...</td>\n",
       "      <td>catgut</td>\n",
       "    </tr>\n",
       "    <tr>\n",
       "      <th>4018</th>\n",
       "      <td>chỉ khâu phẫu thuật vô trùng sợi đơn polyamide...</td>\n",
       "      <td>trulon</td>\n",
       "    </tr>\n",
       "    <tr>\n",
       "      <th>11853</th>\n",
       "      <td>chỉ phẫu thuật loại surgicryl pga ep 3 5 usp 0...</td>\n",
       "      <td>surgicryl pga</td>\n",
       "    </tr>\n",
       "    <tr>\n",
       "      <th>11615</th>\n",
       "      <td>sp-1646 miếng vá sọ titan bộ 2 0mm cỡ 150x150m...</td>\n",
       "      <td>mesh</td>\n",
       "    </tr>\n",
       "  </tbody>\n",
       "</table>\n",
       "</div>"
      ],
      "text/plain": [
       "                                                    desc         wordId\n",
       "8057   chỉ phẩu thuật chromic catgut 2 0 usp size hàn...         catgut\n",
       "866    chỉ khâu phẫu thuật - novosyn violet 0 3 5 90c...        novosyn\n",
       "1524   chỉ khâu phẫu thuật c0935123 chủng loại dafilo...        dafilon\n",
       "8248   chỉ y tế progut đường kính 20mm loại 3-0 dài 7...            gut\n",
       "8623   ethilon blk 13cm m0 2 10 0 bv130-4 chỉ phẫu th...        ethilon\n",
       "2679   chỉ khâu phẫu thuật liền kim jbp v lift 29046a...            NaN\n",
       "7084   chỉ phẫu thuật vô trùng mới 100 nhãn hiệu catg...         catgut\n",
       "4018   chỉ khâu phẫu thuật vô trùng sợi đơn polyamide...         trulon\n",
       "11853  chỉ phẫu thuật loại surgicryl pga ep 3 5 usp 0...  surgicryl pga\n",
       "11615  sp-1646 miếng vá sọ titan bộ 2 0mm cỡ 150x150m...           mesh"
      ]
     },
     "execution_count": 8,
     "metadata": {},
     "output_type": "execute_result"
    }
   ],
   "source": [
    "df.head(10)"
   ]
  },
  {
   "cell_type": "code",
   "execution_count": 9,
   "metadata": {},
   "outputs": [],
   "source": [
    "descVec = [text2code(i, vocab) for i in df.desc]"
   ]
  },
  {
   "cell_type": "code",
   "execution_count": 10,
   "metadata": {},
   "outputs": [],
   "source": [
    "descVec_rev = [code2text(i, vocab) for i in descVec]"
   ]
  },
  {
   "cell_type": "code",
   "execution_count": 11,
   "metadata": {},
   "outputs": [
    {
     "data": {
      "text/plain": [
       "0"
      ]
     },
     "execution_count": 11,
     "metadata": {},
     "output_type": "execute_result"
    }
   ],
   "source": [
    "(descVec_rev != df.desc).sum()"
   ]
  },
  {
   "cell_type": "code",
   "execution_count": 12,
   "metadata": {},
   "outputs": [],
   "source": [
    "wordIdVec = [getOutVec(i,j) for i, j in zip(df.desc, df.wordId)]"
   ]
  },
  {
   "cell_type": "code",
   "execution_count": 13,
   "metadata": {},
   "outputs": [
    {
     "data": {
      "text/plain": [
       "True"
      ]
     },
     "execution_count": 13,
     "metadata": {},
     "output_type": "execute_result"
    }
   ],
   "source": [
    "len(wordIdVec) == len(df.wordId)"
   ]
  },
  {
   "cell_type": "code",
   "execution_count": 14,
   "metadata": {},
   "outputs": [],
   "source": [
    "wordIdVec_rev = [getWordIdenFromOutputVector(originSt=list(df.desc)[i], outVec=wordIdVec[i]) for i in range(len(wordIdVec))]"
   ]
  },
  {
   "cell_type": "code",
   "execution_count": 15,
   "metadata": {},
   "outputs": [],
   "source": [
    "wordIdVec_rev = [' '.join(i) for i in wordIdVec_rev]"
   ]
  },
  {
   "cell_type": "code",
   "execution_count": 16,
   "metadata": {},
   "outputs": [],
   "source": [
    "for i in range(len(wordIdVec_rev)):\n",
    "    if wordIdVec_rev[i] == '':\n",
    "        wordIdVec_rev[i] = np.nan"
   ]
  },
  {
   "cell_type": "code",
   "execution_count": 17,
   "metadata": {
    "scrolled": true
   },
   "outputs": [],
   "source": [
    "dif = (wordIdVec_rev != df.wordId)"
   ]
  },
  {
   "cell_type": "code",
   "execution_count": 18,
   "metadata": {},
   "outputs": [
    {
     "data": {
      "text/plain": [
       "1355"
      ]
     },
     "execution_count": 18,
     "metadata": {},
     "output_type": "execute_result"
    }
   ],
   "source": [
    "dif.sum() #1526 for not space; 1355 for space"
   ]
  },
  {
   "cell_type": "code",
   "execution_count": 33,
   "metadata": {},
   "outputs": [],
   "source": [
    "import csv\n",
    "\n",
    "with open('train_encode.csv', 'w') as f:\n",
    "    writer = csv.writer(f)\n",
    "    writer.writerow([\"descVec\", \"wordIdVec\"])\n",
    "    writer.writerows(zip(descVec ,wordIdVec))"
   ]
  },
  {
   "cell_type": "code",
   "execution_count": null,
   "metadata": {},
   "outputs": [],
   "source": []
  }
 ],
 "metadata": {
  "kernelspec": {
   "display_name": "Python 3",
   "language": "python",
   "name": "python3"
  },
  "language_info": {
   "codemirror_mode": {
    "name": "ipython",
    "version": 3
   },
   "file_extension": ".py",
   "mimetype": "text/x-python",
   "name": "python",
   "nbconvert_exporter": "python",
   "pygments_lexer": "ipython3",
   "version": "3.6.5"
  }
 },
 "nbformat": 4,
 "nbformat_minor": 2
}

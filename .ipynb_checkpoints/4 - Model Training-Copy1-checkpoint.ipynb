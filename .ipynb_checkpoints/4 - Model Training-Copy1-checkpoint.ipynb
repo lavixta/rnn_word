{
 "cells": [
  {
   "cell_type": "code",
   "execution_count": 1,
   "metadata": {},
   "outputs": [
    {
     "name": "stderr",
     "output_type": "stream",
     "text": [
      "/home/huypham/anaconda3/lib/python3.6/site-packages/h5py/__init__.py:36: FutureWarning: Conversion of the second argument of issubdtype from `float` to `np.floating` is deprecated. In future, it will be treated as `np.float64 == np.dtype(float).type`.\n",
      "  from ._conv import register_converters as _register_converters\n",
      "Using TensorFlow backend.\n"
     ]
    }
   ],
   "source": [
    "from keras.preprocessing import sequence\n",
    "import pandas as pd\n",
    "import numpy as np"
   ]
  },
  {
   "cell_type": "code",
   "execution_count": 2,
   "metadata": {},
   "outputs": [],
   "source": [
    "df = pd.read_csv('train_encode.csv')"
   ]
  },
  {
   "cell_type": "code",
   "execution_count": 3,
   "metadata": {},
   "outputs": [
    {
     "data": {
      "text/html": [
       "<div>\n",
       "<style scoped>\n",
       "    .dataframe tbody tr th:only-of-type {\n",
       "        vertical-align: middle;\n",
       "    }\n",
       "\n",
       "    .dataframe tbody tr th {\n",
       "        vertical-align: top;\n",
       "    }\n",
       "\n",
       "    .dataframe thead th {\n",
       "        text-align: right;\n",
       "    }\n",
       "</style>\n",
       "<table border=\"1\" class=\"dataframe\">\n",
       "  <thead>\n",
       "    <tr style=\"text-align: right;\">\n",
       "      <th></th>\n",
       "      <th>descVec</th>\n",
       "      <th>wordIdVec</th>\n",
       "    </tr>\n",
       "  </thead>\n",
       "  <tbody>\n",
       "    <tr>\n",
       "      <th>0</th>\n",
       "      <td>[2427, 3953, 4687, 2416, 2337, 772, 40, 4878, ...</td>\n",
       "      <td>[0, 0, 0, 0, 1, 0, 0, 0, 0, 0, 0, 0, 0, 0, 0, ...</td>\n",
       "    </tr>\n",
       "    <tr>\n",
       "      <th>1</th>\n",
       "      <td>[2427, 3209, 3954, 4687, 0, 3730, 4945, 40, 12...</td>\n",
       "      <td>[0, 0, 0, 0, 0, 1, 0, 0, 0, 0, 0, 0, 0, 0, 0, ...</td>\n",
       "    </tr>\n",
       "    <tr>\n",
       "      <th>2</th>\n",
       "      <td>[2427, 3209, 3954, 4687, 2195, 2433, 3324, 259...</td>\n",
       "      <td>[0, 0, 0, 0, 0, 0, 0, 1, 0, 0, 0, 0, 0, 0, 0, ...</td>\n",
       "    </tr>\n",
       "    <tr>\n",
       "      <th>3</th>\n",
       "      <td>[2427, 5288, 4809, 4093, 5335, 3253, 872, 3324...</td>\n",
       "      <td>[0, 0, 0, 0, 0, 0, 0, 0, 0, 0, 0, 0, 0, 0, 0, ...</td>\n",
       "    </tr>\n",
       "    <tr>\n",
       "      <th>4</th>\n",
       "      <td>[2799, 2031, 380, 3412, 772, 183, 40, 2061, 24...</td>\n",
       "      <td>[1, 0, 0, 0, 0, 0, 0, 0, 0, 0, 0, 0, 0, 0, 0, ...</td>\n",
       "    </tr>\n",
       "  </tbody>\n",
       "</table>\n",
       "</div>"
      ],
      "text/plain": [
       "                                             descVec  \\\n",
       "0  [2427, 3953, 4687, 2416, 2337, 772, 40, 4878, ...   \n",
       "1  [2427, 3209, 3954, 4687, 0, 3730, 4945, 40, 12...   \n",
       "2  [2427, 3209, 3954, 4687, 2195, 2433, 3324, 259...   \n",
       "3  [2427, 5288, 4809, 4093, 5335, 3253, 872, 3324...   \n",
       "4  [2799, 2031, 380, 3412, 772, 183, 40, 2061, 24...   \n",
       "\n",
       "                                           wordIdVec  \n",
       "0  [0, 0, 0, 0, 1, 0, 0, 0, 0, 0, 0, 0, 0, 0, 0, ...  \n",
       "1  [0, 0, 0, 0, 0, 1, 0, 0, 0, 0, 0, 0, 0, 0, 0, ...  \n",
       "2  [0, 0, 0, 0, 0, 0, 0, 1, 0, 0, 0, 0, 0, 0, 0, ...  \n",
       "3  [0, 0, 0, 0, 0, 0, 0, 0, 0, 0, 0, 0, 0, 0, 0, ...  \n",
       "4  [1, 0, 0, 0, 0, 0, 0, 0, 0, 0, 0, 0, 0, 0, 0, ...  "
      ]
     },
     "execution_count": 3,
     "metadata": {},
     "output_type": "execute_result"
    }
   ],
   "source": [
    "df.head()"
   ]
  },
  {
   "cell_type": "code",
   "execution_count": 4,
   "metadata": {},
   "outputs": [
    {
     "data": {
      "text/plain": [
       "270"
      ]
     },
     "execution_count": 4,
     "metadata": {},
     "output_type": "execute_result"
    }
   ],
   "source": [
    "max([len(i) for i in df.descVec])"
   ]
  },
  {
   "cell_type": "code",
   "execution_count": 5,
   "metadata": {},
   "outputs": [],
   "source": [
    "maxlen = 500\n",
    "max_features = 6000"
   ]
  },
  {
   "cell_type": "code",
   "execution_count": 6,
   "metadata": {},
   "outputs": [],
   "source": [
    "input_train = [list(map(int, i.strip('[').strip(']').split(','))) for i in df.descVec]\n",
    "y_train = [list(map(int, i[1:-1].replace(', ', ' ').split(' '))) for i in df.wordIdVec]\n",
    "input_train_pad = sequence.pad_sequences(input_train, maxlen=maxlen, padding='post')\n",
    "y_train_pad = sequence.pad_sequences(y_train, maxlen=maxlen, padding='post')"
   ]
  },
  {
   "cell_type": "code",
   "execution_count": 7,
   "metadata": {},
   "outputs": [
    {
     "data": {
      "text/plain": [
       "(9649, 500)"
      ]
     },
     "execution_count": 7,
     "metadata": {},
     "output_type": "execute_result"
    }
   ],
   "source": [
    "input_train_pad.shape"
   ]
  },
  {
   "cell_type": "code",
   "execution_count": 8,
   "metadata": {},
   "outputs": [],
   "source": [
    "testdf = pd.read_csv('test_encode.csv')\n",
    "\n",
    "input_test = [list(map(int, i.strip('[').strip(']').split(','))) for i in testdf.descVec]\n",
    "y_test = [list(map(float, i[1:-1].replace(', ', ' ').split(' '))) for i in testdf.wordIdVec]\n",
    "input_test_pad = sequence.pad_sequences(input_test, maxlen=maxlen, padding='post')\n",
    "y_test_pad = sequence.pad_sequences(y_test, maxlen=maxlen, padding='post')"
   ]
  },
  {
   "cell_type": "code",
   "execution_count": 9,
   "metadata": {},
   "outputs": [],
   "source": [
    "from keras.models import Sequential\n",
    "from keras.layers import Input, LSTM, Dense, Embedding, Dropout, Activation, TimeDistributed"
   ]
  },
  {
   "cell_type": "code",
   "execution_count": 29,
   "metadata": {},
   "outputs": [
    {
     "name": "stdout",
     "output_type": "stream",
     "text": [
      "_________________________________________________________________\n",
      "Layer (type)                 Output Shape              Param #   \n",
      "=================================================================\n",
      "embedding_12 (Embedding)     (None, None, 32)          192000    \n",
      "_________________________________________________________________\n",
      "lstm_20 (LSTM)               (None, None, 64)          24832     \n",
      "_________________________________________________________________\n",
      "lstm_21 (LSTM)               (None, 64)                33024     \n",
      "_________________________________________________________________\n",
      "dropout_10 (Dropout)         (None, 64)                0         \n",
      "_________________________________________________________________\n",
      "dense_10 (Dense)             (None, 500)               32500     \n",
      "=================================================================\n",
      "Total params: 282,356\n",
      "Trainable params: 282,356\n",
      "Non-trainable params: 0\n",
      "_________________________________________________________________\n"
     ]
    }
   ],
   "source": [
    "model = Sequential()\n",
    "model.add(Embedding(max_features, 32))\n",
    "model.add(LSTM(64, return_sequences=True))\n",
    "model.add(LSTM(64))\n",
    "model.add(Dropout(0.5))\n",
    "model.add(Dense(500, activation='softmax'))\n",
    "#model.add(Activation('softmax'))\n",
    "\n",
    "model.compile(optimizer='adam', loss='categorical_crossentropy', metrics =['categorical_accuracy'])\n",
    "model.summary()\n"
   ]
  },
  {
   "cell_type": "code",
   "execution_count": 30,
   "metadata": {},
   "outputs": [
    {
     "name": "stdout",
     "output_type": "stream",
     "text": [
      "Train on 7719 samples, validate on 1930 samples\n",
      "Epoch 1/10\n",
      "7719/7719 [==============================] - 79s 10ms/step - loss: 3.9531 - categorical_accuracy: 0.2218 - val_loss: 2.5222 - val_categorical_accuracy: 0.3187\n",
      "Epoch 2/10\n",
      "7719/7719 [==============================] - 80s 10ms/step - loss: 2.6224 - categorical_accuracy: 0.2389 - val_loss: 2.4838 - val_categorical_accuracy: 0.3187\n",
      "Epoch 3/10\n",
      "7719/7719 [==============================] - 81s 11ms/step - loss: 2.5851 - categorical_accuracy: 0.2621 - val_loss: 2.4752 - val_categorical_accuracy: 0.3187\n",
      "Epoch 4/10\n",
      "7719/7719 [==============================] - 81s 10ms/step - loss: 2.5536 - categorical_accuracy: 0.2656 - val_loss: 2.4750 - val_categorical_accuracy: 0.3187\n",
      "Epoch 5/10\n",
      "7719/7719 [==============================] - 81s 10ms/step - loss: 2.5437 - categorical_accuracy: 0.2854 - val_loss: 2.4737 - val_categorical_accuracy: 0.3187\n",
      "Epoch 6/10\n",
      "7719/7719 [==============================] - 82s 11ms/step - loss: 2.5380 - categorical_accuracy: 0.2951 - val_loss: 2.4681 - val_categorical_accuracy: 0.3187\n",
      "Epoch 7/10\n",
      "7719/7719 [==============================] - 81s 11ms/step - loss: 2.5307 - categorical_accuracy: 0.2943 - val_loss: 2.4718 - val_categorical_accuracy: 0.3187\n",
      "Epoch 8/10\n",
      "7719/7719 [==============================] - 81s 10ms/step - loss: 2.5221 - categorical_accuracy: 0.3108 - val_loss: 2.4693 - val_categorical_accuracy: 0.3187\n",
      "Epoch 9/10\n",
      "7719/7719 [==============================] - 82s 11ms/step - loss: 2.5196 - categorical_accuracy: 0.3170 - val_loss: 2.4677 - val_categorical_accuracy: 0.3187\n",
      "Epoch 10/10\n",
      "7719/7719 [==============================] - 82s 11ms/step - loss: 2.5154 - categorical_accuracy: 0.3227 - val_loss: 2.4672 - val_categorical_accuracy: 0.3187\n"
     ]
    }
   ],
   "source": [
    "#inp = input_train_pad.reshape(1, 9649,maxlen)\n",
    "res = model.fit(input_train_pad, y_train_pad, epochs = 10, batch_size=128, validation_split=0.2)"
   ]
  },
  {
   "cell_type": "markdown",
   "metadata": {},
   "source": [
    "## lstm 32: \n",
    "Epoch 1/1\n",
    "7719/7719 [==============================] - 26s 3ms/step - loss: 4.9358 - categorical_accuracy: 0.1411 - val_loss: 2.9808 - val_categorical_accuracy: 0.3187\n",
    "\n",
    "## LSTM 64:\n",
    "7719/7719 [==============================] - 37s 5ms/step - loss: 4.1176 - categorical_accuracy: 0.2493 - val_loss: 2.5061 - val_categorical_accuracy: 0.3187\n",
    "\n",
    "## LSTM 128:\n",
    "7719/7719 [==============================] - 82s 11ms/step - loss: 3.5538 - categorical_accuracy: 0.2209 - val_loss: 2.4833 - val_categorical_accuracy: 0.3187\n",
    "\n",
    "## LSTM 32 x 4 layers:\n",
    "7719/7719 [==============================] - 98s 13ms/step - loss: 4.7243 - categorical_accuracy: 0.1021 - val_loss: 2.9010 - val_categorical_accuracy: 0.0731\n",
    "\n",
    "## LSTM 64 x 3:\n",
    "7719/7719 [==============================] - 121s 16ms/step - loss: 3.8503 - categorical_accuracy: 0.1954 - val_loss: 2.5308 - val_categorical_accuracy: 0.3187\n",
    "\n",
    "## LSTM 64 x 2 layers -> best:\n",
    "7719/7719 [==============================] - 81s 10ms/step - loss: 4.0335 - categorical_accuracy: 0.2546 - val_loss: 2.5199 - val_categorical_accuracy: 0.3187\n",
    "\n",
    "## LSTM 64 x 2 layers - 10 epochs:\n",
    "Epoch 10/10\n",
    "7719/7719 [==============================] - 82s 11ms/step - loss: 2.5154 - categorical_accuracy: 0.3227 - val_loss: 2.4672 - val_categorical_accuracy: 0.3187\n",
    "\n"
   ]
  },
  {
   "cell_type": "code",
   "execution_count": null,
   "metadata": {},
   "outputs": [],
   "source": [
    "model = Sequential()\n",
    "model.add(Embedding(max_features, 32))\n",
    "model.add(LSTM(64, return_sequences=True))\n",
    "model.add(LSTM(64))\n",
    "model.add(Dropout(0.5))\n",
    "model.add(Dense(500, activation='softmax'))\n",
    "#model.add(Activation('softmax'))\n",
    "\n",
    "model.compile(optimizer='rmsprop', loss='categorical_crossentropy', metrics =['acc'])\n",
    "model.summary()\n",
    "#inp = input_train_pad.reshape(1, 9649,maxlen)\n",
    "res = model.fit(input_train_pad, y_train_pad, epochs = 10, batch_size=128, validation_split=0.2)"
   ]
  },
  {
   "cell_type": "code",
   "execution_count": 162,
   "metadata": {},
   "outputs": [
    {
     "data": {
      "text/plain": [
       "(2413, 500)"
      ]
     },
     "execution_count": 162,
     "metadata": {},
     "output_type": "execute_result"
    }
   ],
   "source": [
    "input_test_pad.shape"
   ]
  },
  {
   "cell_type": "code",
   "execution_count": 163,
   "metadata": {},
   "outputs": [],
   "source": [
    "y_test_pred = model.predict(input_test_pad)"
   ]
  },
  {
   "cell_type": "code",
   "execution_count": 165,
   "metadata": {},
   "outputs": [
    {
     "data": {
      "text/plain": [
       "(2413, 500)"
      ]
     },
     "execution_count": 165,
     "metadata": {},
     "output_type": "execute_result"
    }
   ],
   "source": [
    "y_test_pred.shape"
   ]
  },
  {
   "cell_type": "code",
   "execution_count": 167,
   "metadata": {},
   "outputs": [
    {
     "data": {
      "text/plain": [
       "(2413, 500)"
      ]
     },
     "execution_count": 167,
     "metadata": {},
     "output_type": "execute_result"
    }
   ],
   "source": [
    "y_test_pad.shape"
   ]
  },
  {
   "cell_type": "code",
   "execution_count": 177,
   "metadata": {},
   "outputs": [],
   "source": [
    "y_test_pred_nopad = [y_test_pred[:len(i)] for i in input_test]"
   ]
  },
  {
   "cell_type": "code",
   "execution_count": 147,
   "metadata": {},
   "outputs": [
    {
     "data": {
      "text/plain": [
       "[0, 0, 0, 0, 0, 0, 0, 0, 0, 0, 0, 0, 0, 0, 0, 0, 0, 0, 0, 0, 0, 0, 0, 0, 0]"
      ]
     },
     "execution_count": 147,
     "metadata": {},
     "output_type": "execute_result"
    }
   ],
   "source": [
    "#list(y_test_pred_nopad[0])"
   ]
  },
  {
   "cell_type": "code",
   "execution_count": 178,
   "metadata": {},
   "outputs": [
    {
     "ename": "ValueError",
     "evalue": "The truth value of an array with more than one element is ambiguous. Use a.any() or a.all()",
     "output_type": "error",
     "traceback": [
      "\u001b[0;31m---------------------------------------------------------------------------\u001b[0m",
      "\u001b[0;31mValueError\u001b[0m                                Traceback (most recent call last)",
      "\u001b[0;32m<ipython-input-178-d02d29175f3b>\u001b[0m in \u001b[0;36m<module>\u001b[0;34m()\u001b[0m\n\u001b[1;32m      2\u001b[0m \u001b[0macc\u001b[0m\u001b[0;34m=\u001b[0m\u001b[0;36m0\u001b[0m\u001b[0;34m\u001b[0m\u001b[0m\n\u001b[1;32m      3\u001b[0m \u001b[0;32mfor\u001b[0m \u001b[0mi\u001b[0m\u001b[0;34m,\u001b[0m \u001b[0mj\u001b[0m \u001b[0;32min\u001b[0m \u001b[0mzip\u001b[0m\u001b[0;34m(\u001b[0m\u001b[0mlist\u001b[0m\u001b[0;34m(\u001b[0m\u001b[0my_test\u001b[0m\u001b[0;34m)\u001b[0m\u001b[0;34m,\u001b[0m \u001b[0mlist\u001b[0m\u001b[0;34m(\u001b[0m\u001b[0my_test_pred_nopad\u001b[0m\u001b[0;34m)\u001b[0m\u001b[0;34m)\u001b[0m\u001b[0;34m:\u001b[0m\u001b[0;34m\u001b[0m\u001b[0m\n\u001b[0;32m----> 4\u001b[0;31m     \u001b[0;32mif\u001b[0m \u001b[0mlist\u001b[0m\u001b[0;34m(\u001b[0m\u001b[0mi\u001b[0m\u001b[0;34m)\u001b[0m\u001b[0;34m==\u001b[0m\u001b[0mlist\u001b[0m\u001b[0;34m(\u001b[0m\u001b[0mj\u001b[0m\u001b[0;34m)\u001b[0m\u001b[0;34m:\u001b[0m\u001b[0;34m\u001b[0m\u001b[0m\n\u001b[0m\u001b[1;32m      5\u001b[0m         \u001b[0macc\u001b[0m \u001b[0;34m+=\u001b[0m \u001b[0;36m1\u001b[0m\u001b[0;34m\u001b[0m\u001b[0m\n\u001b[1;32m      6\u001b[0m \u001b[0;34m\u001b[0m\u001b[0m\n",
      "\u001b[0;31mValueError\u001b[0m: The truth value of an array with more than one element is ambiguous. Use a.any() or a.all()"
     ]
    }
   ],
   "source": [
    "#from sklearn.metrics import accuracy_score\n",
    "acc=0\n",
    "for i, j in zip(list(y_test), list(y_test_pred_nopad)):\n",
    "    if list(i)==list(j):\n",
    "        acc += 1\n",
    "        \n",
    "print(acc/len(y_test_pad))"
   ]
  },
  {
   "cell_type": "code",
   "execution_count": null,
   "metadata": {},
   "outputs": [],
   "source": [
    "su = 0\n",
    "for i in y_test_pad:\n",
    "    if sum(i) != 0:\n",
    "        su += 1\n",
    "print(su)"
   ]
  },
  {
   "cell_type": "code",
   "execution_count": null,
   "metadata": {},
   "outputs": [],
   "source": [
    "# 0.14022178464089544"
   ]
  },
  {
   "cell_type": "code",
   "execution_count": 180,
   "metadata": {},
   "outputs": [
    {
     "ename": "AttributeError",
     "evalue": "'list' object has no attribute 'shape'",
     "output_type": "error",
     "traceback": [
      "\u001b[0;31m---------------------------------------------------------------------------\u001b[0m",
      "\u001b[0;31mAttributeError\u001b[0m                            Traceback (most recent call last)",
      "\u001b[0;32m<ipython-input-180-eefc3e039a1c>\u001b[0m in \u001b[0;36m<module>\u001b[0;34m()\u001b[0m\n\u001b[0;32m----> 1\u001b[0;31m \u001b[0my_test_pred_nopad\u001b[0m\u001b[0;34m.\u001b[0m\u001b[0mshape\u001b[0m\u001b[0;34m\u001b[0m\u001b[0m\n\u001b[0m",
      "\u001b[0;31mAttributeError\u001b[0m: 'list' object has no attribute 'shape'"
     ]
    }
   ],
   "source": [
    "y_test_pred_nopad.shape"
   ]
  },
  {
   "cell_type": "code",
   "execution_count": 173,
   "metadata": {},
   "outputs": [
    {
     "data": {
      "text/plain": [
       "True"
      ]
     },
     "execution_count": 173,
     "metadata": {},
     "output_type": "execute_result"
    }
   ],
   "source": [
    "[0,0] == [0,0]"
   ]
  },
  {
   "cell_type": "code",
   "execution_count": null,
   "metadata": {},
   "outputs": [],
   "source": []
  },
  {
   "cell_type": "markdown",
   "metadata": {},
   "source": [
    "# Y TEST pred"
   ]
  },
  {
   "cell_type": "code",
   "execution_count": null,
   "metadata": {},
   "outputs": [],
   "source": [
    "import pandas as pd\n",
    "import csv\n",
    "from utils import *\n",
    "\n",
    "vocab = pd.read_csv('vocab.csv', na_filter = False)\n",
    "vocab = list(vocab.vocab)\n",
    "\n",
    "df = pd.read_csv('test.csv', index_col=0)\n",
    "df.desc = [textPrep(i) for i in df.desc]\n",
    "df.wordId = [textPrep(i) for i in df.wordId]\n",
    "\n",
    "wordIdVec_rev = [getWordIdenFromOutputVector(originSt=list(df.desc)[i], outVec=y_test_pad[i]) for i in range(len(wordIdVec))]"
   ]
  }
 ],
 "metadata": {
  "kernelspec": {
   "display_name": "Python 3",
   "language": "python",
   "name": "python3"
  },
  "language_info": {
   "codemirror_mode": {
    "name": "ipython",
    "version": 3
   },
   "file_extension": ".py",
   "mimetype": "text/x-python",
   "name": "python",
   "nbconvert_exporter": "python",
   "pygments_lexer": "ipython3",
   "version": "3.6.5"
  }
 },
 "nbformat": 4,
 "nbformat_minor": 2
}

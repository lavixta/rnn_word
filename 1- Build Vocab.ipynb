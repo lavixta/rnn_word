{
 "cells": [
  {
   "cell_type": "code",
   "execution_count": 4,
   "metadata": {},
   "outputs": [],
   "source": [
    "import numpy as np\n",
    "import pandas as pd\n",
    "from utils import *\n",
    "import csv"
   ]
  },
  {
   "cell_type": "code",
   "execution_count": 6,
   "metadata": {},
   "outputs": [],
   "source": [
    "df = pd.read_csv('DataSuture.csv')"
   ]
  },
  {
   "cell_type": "code",
   "execution_count": 6,
   "metadata": {},
   "outputs": [],
   "source": [
    "vocab = set()\n",
    "\n",
    "for sentence in df.desc:\n",
    "    sentence = textPrep(sentence)\n",
    "    vocab.update(textSeperate(sentence))\n",
    "\n",
    "for sentence in df.wordId:\n",
    "    if not (pd.isnull(sentence)):\n",
    "        sentence = textPrep(sentence)\n",
    "        vocab.update(textSeperate(sentence))\n",
    "    \n",
    "vocab = sorted(vocab)"
   ]
  },
  {
   "cell_type": "code",
   "execution_count": 7,
   "metadata": {},
   "outputs": [],
   "source": [
    "with open('vocab.csv', 'w') as f:\n",
    "    writer = csv.writer(f)\n",
    "    writer.writerow([\"vocab\"])\n",
    "    for item in vocab:\n",
    "        writer.writerow([item,])"
   ]
  },
  {
   "cell_type": "code",
   "execution_count": 7,
   "metadata": {},
   "outputs": [
    {
     "data": {
      "text/html": [
       "<div>\n",
       "<style scoped>\n",
       "    .dataframe tbody tr th:only-of-type {\n",
       "        vertical-align: middle;\n",
       "    }\n",
       "\n",
       "    .dataframe tbody tr th {\n",
       "        vertical-align: top;\n",
       "    }\n",
       "\n",
       "    .dataframe thead th {\n",
       "        text-align: right;\n",
       "    }\n",
       "</style>\n",
       "<table border=\"1\" class=\"dataframe\">\n",
       "  <thead>\n",
       "    <tr style=\"text-align: right;\">\n",
       "      <th></th>\n",
       "      <th>desc</th>\n",
       "      <th>wordId</th>\n",
       "    </tr>\n",
       "  </thead>\n",
       "  <tbody>\n",
       "    <tr>\n",
       "      <th>0</th>\n",
       "      <td>Chỉ phẫu thuật  TICRON  (36 tép / hộp)  88...</td>\n",
       "      <td>Ticron</td>\n",
       "    </tr>\n",
       "    <tr>\n",
       "      <th>1</th>\n",
       "      <td>CHỈ  KHÂU PHẪU THUẬT TỰ TIÊU SINH HỌC  PLAIN...</td>\n",
       "      <td>Plain</td>\n",
       "    </tr>\n",
       "    <tr>\n",
       "      <th>2</th>\n",
       "      <td>CHỈ  KHÂU PHẪU THUẬT TỰ TIÊU SINH HỌC  PLAIN...</td>\n",
       "      <td>Plain</td>\n",
       "    </tr>\n",
       "    <tr>\n",
       "      <th>3</th>\n",
       "      <td>CHỈ  KHÂU PHẪU THUẬT TỰ TIÊU SINH HỌC CHROMI...</td>\n",
       "      <td>Chromic</td>\n",
       "    </tr>\n",
       "    <tr>\n",
       "      <th>4</th>\n",
       "      <td>CHỈ  KHÂU PHẪU THUẬT TỰ TIÊU SINH HỌC CHROMI...</td>\n",
       "      <td>Chromic</td>\n",
       "    </tr>\n",
       "  </tbody>\n",
       "</table>\n",
       "</div>"
      ],
      "text/plain": [
       "                                                desc   wordId\n",
       "0      Chỉ phẫu thuật  TICRON  (36 tép / hộp)  88...   Ticron\n",
       "1    CHỈ  KHÂU PHẪU THUẬT TỰ TIÊU SINH HỌC  PLAIN...    Plain\n",
       "2    CHỈ  KHÂU PHẪU THUẬT TỰ TIÊU SINH HỌC  PLAIN...    Plain\n",
       "3    CHỈ  KHÂU PHẪU THUẬT TỰ TIÊU SINH HỌC CHROMI...  Chromic\n",
       "4    CHỈ  KHÂU PHẪU THUẬT TỰ TIÊU SINH HỌC CHROMI...  Chromic"
      ]
     },
     "execution_count": 7,
     "metadata": {},
     "output_type": "execute_result"
    }
   ],
   "source": [
    "df.head()"
   ]
  },
  {
   "cell_type": "code",
   "execution_count": null,
   "metadata": {},
   "outputs": [],
   "source": []
  }
 ],
 "metadata": {
  "kernelspec": {
   "display_name": "Python 3",
   "language": "python",
   "name": "python3"
  },
  "language_info": {
   "codemirror_mode": {
    "name": "ipython",
    "version": 3
   },
   "file_extension": ".py",
   "mimetype": "text/x-python",
   "name": "python",
   "nbconvert_exporter": "python",
   "pygments_lexer": "ipython3",
   "version": "3.6.5"
  }
 },
 "nbformat": 4,
 "nbformat_minor": 2
}
